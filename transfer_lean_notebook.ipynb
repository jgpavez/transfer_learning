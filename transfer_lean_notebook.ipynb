{
 "cells": [
  {
   "cell_type": "code",
   "execution_count": 33,
   "metadata": {
    "collapsed": true
   },
   "outputs": [],
   "source": [
    "import ROOT\n",
    "from sklearn.metrics import roc_curve, auc\n",
    "from sklearn.ensemble import GradientBoostingClassifier\n",
    "from sklearn import cross_validation\n",
    "from xgboost_wrapper import XGBoostClassifier\n",
    "\n",
    "import matplotlib.pyplot as plt\n",
    "\n",
    "from mlp import make_predictions, train_mlp\n",
    "from utils import printFrame,makePlotName,makeSigBkg,saveFig\n",
    "\n",
    "import numpy as np\n",
    "\n",
    "import os\n",
    "\n",
    "%matplotlib inline"
   ]
  },
  {
   "cell_type": "code",
   "execution_count": 34,
   "metadata": {
    "collapsed": false
   },
   "outputs": [],
   "source": [
    "workspace_file = 'workspace_transfer.root'\n",
    "vars_g = ['x']\n",
    "dir='.'\n",
    "model_g='mlp'\n",
    "verbose_printing=False"
   ]
  },
  {
   "cell_type": "code",
   "execution_count": 35,
   "metadata": {
    "collapsed": false
   },
   "outputs": [],
   "source": [
    "# Statistical model\n",
    "w = ROOT.RooWorkspace('w')\n",
    "#w.factory(\"EXPR::f1('cos(x)**2 + .01',x)\")\n",
    "w.factory(\"EXPR::f1('exp(-(x-2.5)**2/1.)',x[0,20])\")\n",
    "#w.factory(\"EXPR::f1('exp(-(x-10.5)**2/5.)',x)\")\n",
    "w.factory(\"EXPR::f0('exp(-(2.*x))',x)\")\n",
    "#w.factory(\"SUM::f2(c1[0.5]*f0,c2[0.5]*f1)\")\n",
    "\n",
    "# Check Model\n",
    "w.Print()\n",
    "if verbose_printing == True:\n",
    "     printFrame(w,['x'],[w.pdf('f0'),w.pdf('f1')],'transfered',['f0','f1']\n",
    "    ,dir=dir,model_g=model_g,range=[-15,20],title='Single distributions',x_text='x0',y_text='p(x)',\n",
    "     print_pdf=True)"
   ]
  },
  {
   "cell_type": "code",
   "execution_count": 36,
   "metadata": {
    "collapsed": false
   },
   "outputs": [
    {
     "name": "stdout",
     "output_type": "stream",
     "text": [
      "Making Data\n"
     ]
    },
    {
     "data": {
      "text/plain": [
       "[]"
      ]
     },
     "execution_count": 36,
     "metadata": {},
     "output_type": "execute_result"
    },
    {
     "data": {
      "image/png": "[encoded data removed]",
      "text/plain": [
       "<matplotlib.figure.Figure at 0x6689790>"
      ]
     },
     "metadata": {},
     "output_type": "display_data"
    }
   ],
   "source": [
    "# Start generating data\n",
    "num_train = 10000\n",
    "num_test = 5000\n",
    "no_train = False\n",
    "\n",
    "print 'Making Data'\n",
    "# Start generating data\n",
    "\n",
    "   \n",
    "# make data from root pdf\n",
    "def makeDataFi(x, pdf, num):\n",
    "    traindata = np.zeros((num,len(vars_g))) \n",
    "    data = pdf.generate(x,num)\n",
    "    traindata[:] = [[data.get(i).getRealValue(var) for var in vars_g]\n",
    "        for i in range(num)]\n",
    "    return traindata\n",
    "  \n",
    "  # features\n",
    "vars = ROOT.TList()\n",
    "for var in vars_g:\n",
    "    vars.Add(w.var(var))\n",
    "x = ROOT.RooArgSet(vars)\n",
    "\n",
    "\n",
    "train_data = np.zeros((num_train*2,len(vars_g) + 1))\n",
    "test_data = np.zeros((num_test*2,len(vars_g) + 1))\n",
    "f0_mean,f1_mean = (0.,0.)\n",
    "f0_var,f1_var = (1.,1.)\n",
    "f0_min,f1_min = (0.,0.)\n",
    "f0_max,f1_max = (1.,1.)\n",
    "if not no_train:\n",
    "    #traindata[:num_train,0] =  makeDataFi(x,w.pdf('f0'), num_train).reshape(num_train)\n",
    "\n",
    "    #traindata[num_train:,0] = makeDataFi(x,w.pdf('f1'), num_train).reshape(num_train)\n",
    "    data_f0 =  makeDataFi(x,w.pdf('f0'), num_train)\n",
    "    data_f1 = makeDataFi(x,w.pdf('f1'), num_train)\n",
    "    train_data_unorm[:num_train,:len(vars_g)] =  data_f0\n",
    "\n",
    "    train_data_unorm[num_train:,:len(vars_g)] = data_f1\n",
    "    #Normalizing\n",
    "    f0_mean,f0_var = (data_f0.mean(),data_f0.var())\n",
    "    f1_mean,f1_var = (data_f1.mean(),data_f1.var())\n",
    "    f0_min,f0_max = (data_f0.min(),data_f0.max())\n",
    "    f1_min,f1_max = (data_f1.min(),data_f1.max())\n",
    "    data_f0 = (data_f0-f0_min)/(f0_max-f0_min)\n",
    "    data_f1 = (data_f1-f1_min)/(f1_max-f1_min)\n",
    "\n",
    "    train_data[:num_train,:len(vars_g)] =  data_f0\n",
    "\n",
    "    train_data[num_train:,:len(vars_g)] = data_f1\n",
    " \n",
    "    train_data[:num_train,-1] = np.ones(num_train)\n",
    "    train_data_unorm[:num_train,-1] = np.ones(num_train)\n",
    "\n",
    "#testdata[:num_test,0] = makeDataFi(x, w.pdf('f0'), num_test).reshape(num_test)\n",
    "#testdata[num_test:,0] = makeDataFi(x, w.pdf('f1'), num_test).reshape(num_test)\n",
    "test_data[:num_test,:len(vars_g)] =  makeDataFi(x,w.pdf('f0'), num_test)\n",
    "\n",
    "test_data[num_test:,:len(vars_g)] = makeDataFi(x,w.pdf('f1'), num_test)\n",
    "\n",
    "test_data[num_test:,-1] = np.ones(num_test)\n",
    "\n",
    "plt.hist(data_f0,bins=50)\n",
    "plt.hist(data_f1,bins=50)\n",
    "plt.plot()\n",
    "\n"
   ]
  },
  {
   "cell_type": "code",
   "execution_count": 37,
   "metadata": {
    "collapsed": false
   },
   "outputs": [
    {
     "name": "stdout",
     "output_type": "stream",
     "text": [
      "... building the model\n",
      "... training\n",
      "Epoch: 1, cost: 2.82273829951\n",
      "Epoch: 2, cost: 1.52722445644\n",
      "Epoch: 3, cost: 1.49035834506\n",
      "Epoch: 4, cost: 1.48356282846\n",
      "Epoch: 5, cost: 1.47975175613\n",
      "Epoch: 6, cost: 1.47710655044\n",
      "Epoch: 7, cost: 1.47518434922\n",
      "Epoch: 8, cost: 1.47374083383\n",
      "Epoch: 9, cost: 1.47262940466\n",
      "Epoch: 10, cost: 1.47175760767\n",
      "Epoch: 11, cost: 1.4710639952\n",
      "Epoch: 12, cost: 1.47050593286\n",
      "Epoch: 13, cost: 1.47005281991\n",
      "Epoch: 14, cost: 1.46968209368\n",
      "Epoch: 15, cost: 1.46937675481\n",
      "Epoch: 16, cost: 1.46912376947\n",
      "Epoch: 17, cost: 1.46891300099\n",
      "Epoch: 18, cost: 1.46873647336\n",
      "Epoch: 19, cost: 1.46858785034\n",
      "Epoch: 20, cost: 1.46846205838\n",
      "Epoch: 21, cost: 1.46835500829\n",
      "Epoch: 22, cost: 1.4682633863\n",
      "Epoch: 23, cost: 1.46818449483\n",
      "Epoch: 24, cost: 1.46811612951\n",
      "Epoch: 25, cost: 1.4680564833\n",
      "Epoch: 26, cost: 1.46800407087\n",
      "Epoch: 27, cost: 1.46795766856\n",
      "Epoch: 28, cost: 1.46791626636\n",
      "Epoch: 29, cost: 1.46787902925\n",
      "Epoch: 30, cost: 1.46784526593\n",
      "Epoch: 31, cost: 1.46781440341\n",
      "Epoch: 32, cost: 1.4677859663\n",
      "Epoch: 33, cost: 1.46775955986\n",
      "Epoch: 34, cost: 1.46773485605\n",
      "Epoch: 35, cost: 1.46771158214\n",
      "Epoch: 36, cost: 1.46768951122\n",
      "Epoch: 37, cost: 1.46766845445\n",
      "Epoch: 38, cost: 1.4676482546\n",
      "Epoch: 39, cost: 1.4676287807\n",
      "Epoch: 40, cost: 1.46760992366\n",
      "Epoch: 41, cost: 1.46759159254\n",
      "Epoch: 42, cost: 1.46757371154\n",
      "Epoch: 43, cost: 1.46755621743\n",
      "Epoch: 44, cost: 1.4675390575\n",
      "Epoch: 45, cost: 1.46752218774\n",
      "Epoch: 46, cost: 1.46750557141\n",
      "Epoch: 47, cost: 1.46748917782\n",
      "Epoch: 48, cost: 1.46747298133\n",
      "Epoch: 49, cost: 1.46745696048\n",
      "Epoch: 50, cost: 1.4674410973\n",
      "Epoch: 51, cost: 1.46742537673\n",
      "Epoch: 52, cost: 1.46740978612\n",
      "Epoch: 53, cost: 1.46739431483\n",
      "Epoch: 54, cost: 1.4673789539\n",
      "Epoch: 55, cost: 1.46736369576\n",
      "Epoch: 56, cost: 1.46734853398\n",
      "Epoch: 57, cost: 1.46733346311\n",
      "Epoch: 58, cost: 1.46731847849\n",
      "Epoch: 59, cost: 1.46730357612\n",
      "Epoch: 60, cost: 1.46728875255\n",
      "Epoch: 61, cost: 1.46727400481\n",
      "Epoch: 62, cost: 1.46725933028\n",
      "Epoch: 63, cost: 1.46724472668\n",
      "Epoch: 64, cost: 1.467230192\n",
      "Epoch: 65, cost: 1.46721572443\n",
      "Epoch: 66, cost: 1.46720132235\n",
      "Epoch: 67, cost: 1.46718698432\n",
      "Epoch: 68, cost: 1.46717270899\n",
      "Epoch: 69, cost: 1.46715849516\n",
      "Epoch: 70, cost: 1.46714434169\n",
      "Epoch: 71, cost: 1.46713024753\n",
      "Epoch: 72, cost: 1.46711621172\n",
      "Epoch: 73, cost: 1.46710223332\n",
      "Epoch: 74, cost: 1.46708831148\n",
      "Epoch: 75, cost: 1.46707444535\n",
      "Epoch: 76, cost: 1.46706063416\n",
      "Epoch: 77, cost: 1.46704687716\n",
      "Epoch: 78, cost: 1.46703317361\n",
      "Epoch: 79, cost: 1.46701952284\n",
      "Epoch: 80, cost: 1.46700592416\n",
      "Epoch: 81, cost: 1.46699237695\n",
      "Epoch: 82, cost: 1.46697888057\n",
      "Epoch: 83, cost: 1.46696543442\n",
      "Epoch: 84, cost: 1.46695203793\n",
      "Epoch: 85, cost: 1.46693869052\n",
      "Epoch: 86, cost: 1.46692539165\n",
      "Epoch: 87, cost: 1.46691214078\n",
      "Epoch: 88, cost: 1.46689893741\n",
      "Epoch: 89, cost: 1.46688578103\n",
      "Epoch: 90, cost: 1.46687267115\n",
      "Epoch: 91, cost: 1.46685960731\n",
      "Epoch: 92, cost: 1.46684658903\n",
      "Epoch: 93, cost: 1.46683361588\n",
      "Epoch: 94, cost: 1.46682068742\n",
      "Epoch: 95, cost: 1.46680780322\n",
      "Epoch: 96, cost: 1.46679496288\n",
      "Epoch: 97, cost: 1.46678216599\n",
      "Epoch: 98, cost: 1.46676941217\n",
      "Epoch: 99, cost: 1.46675670103\n",
      "Epoch: 100, cost: 1.4667440322\n",
      "...saving model\n"
     ]
    }
   ],
   "source": [
    "\n",
    "model_file = 'train'\n",
    "traindata = train_data[:,:-1]\n",
    "targetdata = train_data[:,-1]\n",
    "if model_g == 'mlp':\n",
    "    train_mlp((traindata, targetdata), save_file='{0}/{1}_F0_F1.pkl'.format(dir,model_file))\n",
    "else:\n",
    "    rng = np.random.RandomState(seed)\n",
    "    indices = rng.permutation(traindata.shape[0])\n",
    "    traindata = traindata[indices]\n",
    "    targetdata = targetdata[indices]\n",
    "    scores = cross_validation.cross_val_score(clf, traindata, targetdata)\n",
    "    print \"Accuracy: {0} (+/- {1})\".format(scores.mean(), scores.std() * 2)\n",
    "    clf.fit(traindata,targetdata)\n",
    "    #clf.plot_importance_matrix(vars_names)\n",
    "    joblib.dump(clf, '{0}/{1}_F0_F1.pkl'.format(dir,model_file))\n"
   ]
  },
  {
   "cell_type": "code",
   "execution_count": 38,
   "metadata": {
    "collapsed": true
   },
   "outputs": [],
   "source": [
    "# Prediction function \n",
    "def predict(filename, traindata,model_g='mlp', sig=1):\n",
    "  sfilename,k,j = filename.split('/')[-1].split('_')\n",
    "  sfilename = '/'.join(filename.split('/')[:-1]) + '/' +  sfilename\n",
    "  j = j.split('.')[0]\n",
    "  sig = 1\n",
    "  if k <> 'F0':\n",
    "    k = int(k)\n",
    "    j = int(j)\n",
    "    sig = 1 if k < j else 0\n",
    "    filename = '{0}_{1}_{2}.pkl'.format(sfilename,min(k,j),max(k,j))\n",
    "  if model_g == 'mlp':\n",
    "    return make_predictions(dataset=traindata, model_file=filename)[:,sig]\n",
    "  else:\n",
    "    clf = joblib.load(filename)\n",
    "    if clf.__class__.__name__ == 'NuSVR':\n",
    "      output = clf.predict(traindata)\n",
    "      return np.clip(output,0.,1.)\n",
    "    else:\n",
    "      return clf.predict_proba(traindata)[:,sig]\n"
   ]
  },
  {
   "cell_type": "code",
   "execution_count": 39,
   "metadata": {
    "collapsed": false
   },
   "outputs": [
    {
     "name": "stdout",
     "output_type": "stream",
     "text": [
      "Generating Score Histograms\n",
      "Estimating F0 F1\n"
     ]
    }
   ],
   "source": [
    "\n",
    "bins = 80\n",
    "low = 0.\n",
    "high = 1.  \n",
    "model_g='mlp'\n",
    "c1_g=''\n",
    "  \n",
    "print 'Generating Score Histograms'\n",
    "\n",
    "w.factory('score[{0},{1}]'.format(low,high))\n",
    "s = w.var('score')\n",
    "  \n",
    "def saveHisto(w,outputs,s,bins,low,high,k='F0',j='F1'):\n",
    "    \n",
    "    print 'Estimating {0} {1}'.format(k,j)\n",
    "    for l,name in enumerate(['sig','bkg']):\n",
    "      data = ROOT.RooDataSet('{0}data_{1}_{2}'.format(name,k,j),\"data\",\n",
    "          ROOT.RooArgSet(s))\n",
    "      hist = ROOT.TH1F('{0}hist_{1}_{2}'.format(name,k,j),'hist',bins,low,high)\n",
    "      values = outputs[l]\n",
    "      #values = values[self.findOutliers(values)]\n",
    "      for val in values:\n",
    "        hist.Fill(val)\n",
    "        s.setVal(val)\n",
    "        data.add(ROOT.RooArgSet(s))\n",
    "      norm = 1./hist.Integral()\n",
    "      hist.Scale(norm) \n",
    "        \n",
    "      s.setBins(bins)\n",
    "      datahist = ROOT.RooDataHist('{0}datahist_{1}_{2}'.format(name,k,j),'hist',\n",
    "            ROOT.RooArgList(s),hist)\n",
    "      histpdf = ROOT.RooHistFunc('{0}histpdf_{1}_{2}'.format(name,k,j),'hist',\n",
    "            ROOT.RooArgSet(s), datahist, 1)\n",
    "\n",
    "      getattr(w,'import')(hist)\n",
    "      getattr(w,'import')(data)\n",
    "      getattr(w,'import')(datahist) # work around for morph = w.import(morph)\n",
    "      getattr(w,'import')(histpdf) # work around for morph = w.import(morph)\n",
    "      score_str = 'score'\n",
    "      # Calculate the density of the classifier output using kernel density \n",
    "      #w.factory('KeysPdf::{0}dist_{1}_{2}({3},{0}data_{1}_{2},RooKeysPdf::NoMirror,2)'.format(name,k,j,score_str))\n",
    "\n",
    "\n",
    "numtrain = traindata.shape[0]       \n",
    "size2 = traindata.shape[1] if len(traindata.shape) > 1 else 1\n",
    "\n",
    "outputs = [predict('/afs/cern.ch/work/j/jpavezse/private/transfer_learning/{0}_F0_F1.pkl'.format(model_file),traindata[targetdata==1],model_g=model_g),\n",
    "            predict('/afs/cern.ch/work/j/jpavezse/private/transfer_learning/{0}_F0_F1.pkl'.format(model_file),traindata[targetdata==0],model_g=model_g)]\n",
    "\n",
    "saveHisto(w,outputs,s, bins, low, high)\n",
    "\n",
    "if verbose_printing == True:\n",
    "    can = printFrame(w,['score'],[w.function('sighistpdf_F0_F1'),w.function('bkghistpdf_F0_F1')], makePlotName('full','all',type='hist',dir=dir,c1_g=c1_g,model_g=model_g),['signal','bkg'],\n",
    "  dir=dir,model_g=model_g,y_text='score(x)',print_pdf=True,title='Pairwise score distributions',use_rootnotes=False)\n"
   ]
  },
  {
   "cell_type": "code",
   "execution_count": 40,
   "metadata": {
    "collapsed": true
   },
   "outputs": [],
   "source": [
    "def findOutliers(x):\n",
    "  q5, q95 = np.percentile(x, [5,95])  \n",
    "  iqr = 2.*(q95 - q5)\n",
    "  outliers = (x <= q95 + iqr) & (x >= q5 - iqr)\n",
    "  return outliers\n",
    "def singleRatio(f0,f1):\n",
    "  ratio = f1 / f0\n",
    "  ratio[np.abs(ratio) == np.inf] = 0 \n",
    "  ratio[np.isnan(ratio)] = 0\n",
    "  return ratio\n",
    "\n",
    "def evalDist(x,f0,val):\n",
    "  iter = x.createIterator()\n",
    "  v = iter.Next()\n",
    "  i = 0\n",
    "  while v:\n",
    "    v.setVal(val[i])\n",
    "    v = iter.Next()\n",
    "    i = i+1\n",
    "  return f0.getVal(x)"
   ]
  },
  {
   "cell_type": "code",
   "execution_count": 41,
   "metadata": {
    "collapsed": false
   },
   "outputs": [
    {
     "name": "stdout",
     "output_type": "stream",
     "text": [
      "Calculating ratios\n"
     ]
    },
    {
     "data": {
      "text/plain": [
       "[]"
      ]
     },
     "execution_count": 41,
     "metadata": {},
     "output_type": "execute_result"
    },
    {
     "data": {
      "text/plain": [
       "<matplotlib.figure.Figure at 0x282f450>"
      ]
     },
     "metadata": {},
     "output_type": "display_data"
    },
    {
     "data": {
      "image/png": "[encoded data removed]",
      "text/plain": [
       "<matplotlib.figure.Figure at 0x21ff750>"
      ]
     },
     "metadata": {},
     "output_type": "display_data"
    }
   ],
   "source": [
    "\n",
    "print 'Calculating ratios'\n",
    "true_dist = True\n",
    "npoints = 50\n",
    "\n",
    "score = ROOT.RooArgSet(w.var('score'))\n",
    "getRatio = singleRatio\n",
    "\n",
    "# NN trained on complete model\n",
    "F0pdf = w.function('bkghistpdf_F0_F1')\n",
    "F1pdf = w.function('sighistpdf_F0_F1')\n",
    "\n",
    "testdata = test_data[:,:-1]\n",
    "testtarget = test_data[:,-1]\n",
    "\n",
    "if true_dist == True and len(vars_g) == 1:\n",
    "    xarray = np.linspace(1,10,npoints)\n",
    "      # TODO: Harcoded dist names\n",
    "    F1dist = np.array([evalDist(x,w.pdf('f1'),[xs]) for xs in xarray])\n",
    "    F0dist = np.array([evalDist(x,w.pdf('f0'),[xs]) for xs in xarray])\n",
    "    trueRatio = getRatio(F1dist, F0dist)\n",
    "\n",
    "    outputs = predict('{0}/{1}_F0_F1.pkl'.format(dir,model_file),xarray,model_g=model_g)\n",
    "\n",
    "    F1fulldist = np.array([evalDist(score,F1pdf,[xs]) for xs in outputs])\n",
    "    F0fulldist = np.array([evalDist(score,F0pdf,[xs]) for xs in outputs])\n",
    "\n",
    "    completeRatio = getRatio(F0fulldist,F1fulldist)\n",
    "    fig = saveFig(xarray, [completeRatio, trueRatio], makePlotName('all','train',type='ratio'),title='Density Ratios',labels=['Trained', 'Truth'], print_pdf=True,dir=dir)\n",
    "\n",
    "    \n",
    "# Make transfer learning\n",
    "\n",
    "# Transforming f1 into f0\n",
    "data_f1 = train_data[train_data[:,-1] == 0.]\n",
    "data_f0 = train_data[train_data[:,-1] == 1.]\n",
    "testdata = data_f1[:,:-1]\n",
    "testtarget = data_f1[:,-1]\n",
    "\n",
    "\n",
    "xarray = testdata\n",
    "\n",
    "outputs = predict('{0}/{1}_F0_F1.pkl'.format(dir,model_file),xarray,model_g=model_g)\n",
    "\n",
    "F1fulldist = np.array([evalDist(score,F1pdf,[xs]) for xs in outputs])\n",
    "F0fulldist = np.array([evalDist(score,F0pdf,[xs]) for xs in outputs])\n",
    "\n",
    "completeRatio = getRatio(F0fulldist,F1fulldist)\n",
    "\n",
    "if len(vars_g) == 1:\n",
    "    F1dist = np.array([evalDist(x,w.pdf('f1'),[xs]) for xs in xarray])\n",
    "    F0dist = np.array([evalDist(x,w.pdf('f0'),[xs]) for xs in xarray])\n",
    "else:\n",
    "    F1dist = np.array([evalDist(x,w.pdf('f1'),xs) for xs in xarray])\n",
    "    F0dist = np.array([evalDist(x,w.pdf('f0'),xs) for xs in xarray])\n",
    "\n",
    "trueRatio = getRatio(F1dist, F0dist)\n",
    "\n",
    "trueIndexes = findOutliers(trueRatio)\n",
    "completeIndexes = findOutliers(completeRatio)\n",
    "#indexes = np.logical_and(trueIndexes,completeIndexes)\n",
    "indexes = completeIndexes\n",
    "data_f1_red = data_f1\n",
    "#trueRatio = trueRatio[indexes]\n",
    "#completeRatio = completeRatio[indexes]\n",
    "#data_f1_red = data_f1[indexes]\n",
    "\n",
    "\n",
    "bins = 50\n",
    "feature = 0\n",
    "x_range = (-1.,1.)\n",
    "# Transfering distributions\n",
    "# Doing histogram manipulation\n",
    "fig,ax = plt.subplots()\n",
    "colors = ['b-','r-','k-']\n",
    "colors_rgb = ['blue','red','black']\n",
    "    \n",
    "hist,bins = np.histogram(data_f1[:,feature],bins=bins, range=x_range,density=True)\n",
    "\n",
    "\n",
    "hist_transfered,bins_1 = np.histogram(data_f1_red[:,feature],weights=trueRatio,bins=bins, range=x_range,density=True)\n",
    "hist_transfered_clf,bins_2 = np.histogram(data_f1_red[:,feature],bins=bins,weights=completeRatio, range=x_range,density=True)\n",
    "hist0,bins0 = np.histogram(data_f0[:,feature], bins=bins, range=x_range,density=True)\n",
    "\n",
    "#hist, bins =  ax.hist(data_f0[:,0],color=colors_rgb[0],label='true',bins=50,histtype='stepfilled',normed=1, alpha=0.5,range=[0,100]) \n",
    "\n",
    "widths = np.diff(bins)\n",
    "#hist_transfered = hist*trueRatio\n",
    "#hist_transfered_clf = hist*completeRatio\n",
    "\n",
    "ax.bar(bins[:-1], hist0,widths,label='f0',alpha=0.5,color='red')\n",
    "ax.bar(bins[:-1], hist,widths,label='f1',alpha=0.5,color='blue')\n",
    "#ax.bar(bins[:-1], hist_transfered,widths,label='f1 transfered (true)',\n",
    "#    alpha=0.5,color='blue')\n",
    "ax.bar(bins[:-1], hist_transfered_clf,widths,label='f1 transfered (trained)',\n",
    "        alpha=0.5,color='green')\n",
    "\n",
    "ax.legend(frameon=False,fontsize=11)\n",
    "ax.set_xlabel('x') \n",
    "ax.set_ylabel('p(x)') \n",
    "if len(vars_g) > 1:\n",
    "    ax.set_title('Transfered distributions feature {0}'.format(feature))\n",
    "else:\n",
    "    ax.set_title('Transfered distributions')\n",
    "file_plot =  makePlotName('all','transf',type='hist_v{0}'.format(feature),model_g=model_g) \n",
    "fig.savefig('{0}/plots/{1}/{2}.png'.format(dir,model_g,file_plot))\n",
    "\n",
    "#saveFig(xarray, [true_transfer, data_f0[:,0]], makePlotName('all','transf',type='hist'),title='Transfered distribution',labels=['Transfer True', 'Truth'],hist=True, print_pdf=True,dir=dir)\n",
    "plt.plot()"
   ]
  },
  {
   "cell_type": "code",
   "execution_count": null,
   "metadata": {
    "collapsed": false
   },
   "outputs": [],
   "source": []
  }
 ],
 "metadata": {
  "kernelspec": {
   "display_name": "Python 2",
   "language": "python",
   "name": "python2"
  },
  "language_info": {
   "codemirror_mode": {
    "name": "ipython",
    "version": 2
   },
   "file_extension": ".py",
   "mimetype": "text/x-python",
   "name": "python",
   "nbconvert_exporter": "python",
   "pygments_lexer": "ipython2",
   "version": "2.7.5"
  }
 },
 "nbformat": 4,
 "nbformat_minor": 0
}
