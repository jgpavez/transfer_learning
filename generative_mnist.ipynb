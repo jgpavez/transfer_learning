{
 "cells": [
  {
   "cell_type": "markdown",
   "metadata": {},
   "source": [
    "## Unsupervised Learning using Approximated Density Ratios\n",
    "\n",
    "We can estimate any distribution directly by using approximated density ratios. The idea is simple.\n",
    "To estimate the density ratio $f(x) / g(x)$ we can train a classifier $s(x)$ to discriminate between $f(x)$ and $g(x)$, then we can replace $f(x)/g(x) = f(s(x))/g(s(x))$.\n",
    "Thus, having data $x \\sim g(x)$ we can recover the distribution $f(x)$ by modifying the data in order to maximize the estimated log ratio $log(f(s(x))) - log(g(s(x)))$.\n",
    "Now, if we use an uniform distribution as $g(x) = U(x)$ we can estimate any $f(x)$ by:\n",
    " - Having data from $x_f \\sim f(x)$ we generate data from a uniform distribution $x_g \\sim U(x)$\n",
    " - Train a classifier to classify between $x_f$ and $x_g$.\n",
    " - Compute the log ratios $r(x) = log[f(s(x))/g(s(x))]$.\n",
    " - In order to generate data we need to modify the data generated from an uniform distribution trying to minimize the negative log ratio of the data. This can be done by gradient descent.\n",
    " - The gradient of the negative log ratio can be estimated using the chain rule as: \n",
    " $$ \\frac{d r}{d x} = \\frac{d s} {dx}\\cdot\\bigg(\\frac{1}{g(x)}\\cdot\\frac{d p_{x\\sim g(x)}(s(x))}{d s} - \\frac{1}{f(x)}\\cdot\\frac{d p_{x\\sim f(x)}(s(x))}{d s}\\bigg)$$\n",
    " - Here $\\frac{d s} {dx}$ is the gradient of the classifier respect to the input which can be obtained by backpropagation.\n",
    " - $\\frac{d p_{x\\sim g(x)}(s(x))}{d s}$ is the derivative of the score distribution respect to the score value. This can be easily estimated since the distribution is just an univariate function.\n",
    " \n",
    "This can be considered as an alternative to unsupervised learning methods such as GANs, RBM, DBN, autoencoders that try to estimate directly the distribution $f(x)$.\n",
    "\n",
    "We now show initial results on how to sample MNIST digits using this method."
   ]
  },
  {
   "cell_type": "code",
   "execution_count": 1,
   "metadata": {
    "collapsed": false
   },
   "outputs": [
    {
     "name": "stderr",
     "output_type": "stream",
     "text": [
      "Using Theano backend.\n",
      "/afs/cern.ch/user/j/jpavezse/.local/lib/python2.7/site-packages/theano/tensor/signal/downsample.py:5: UserWarning: downsample module has been moved to the pool module.\n",
      "  warnings.warn(\"downsample module has been moved to the pool module.\")\n"
     ]
    }
   ],
   "source": [
    "import ROOT\n",
    "from sklearn.metrics import roc_curve, auc\n",
    "from sklearn.externals import joblib\n",
    "import matplotlib.pyplot as plt\n",
    "from scipy.optimize import fmin_l_bfgs_b\n",
    "from scipy import ndimage\n",
    "\n",
    "from keras.datasets import mnist\n",
    "from keras.models import Sequential\n",
    "from keras.layers.core import Dense, Dropout, Activation\n",
    "from keras.optimizers import SGD, Adam, RMSprop\n",
    "from keras.utils import np_utils\n",
    "from keras import backend as K\n",
    "from utils import printFrame,makePlotName\n",
    "import time\n",
    "\n",
    "import numpy as np\n",
    "\n",
    "import os\n",
    "import pdb\n",
    "\n",
    "np.random.seed(1234)\n",
    "\n",
    "ROOT.gROOT.SetBatch(ROOT.kTRUE)\n",
    "\n",
    "%matplotlib inline\n",
    "\n",
    "%load_ext autoreload\n",
    "%autoreload 2"
   ]
  },
  {
   "cell_type": "markdown",
   "metadata": {},
   "source": [
    "Setting some global variables (features, classifier used to approximate the ratios)."
   ]
  },
  {
   "cell_type": "code",
   "execution_count": 2,
   "metadata": {
    "collapsed": false
   },
   "outputs": [],
   "source": [
    "workspace_file = 'workspace_evaluating.root'\n",
    "dir='.'\n",
    "model_g='mlp'\n",
    "verbose_printing=False"
   ]
  },
  {
   "cell_type": "markdown",
   "metadata": {},
   "source": [
    "Read data from the MNIST dataset."
   ]
  },
  {
   "cell_type": "code",
   "execution_count": 3,
   "metadata": {
    "collapsed": false
   },
   "outputs": [
    {
     "name": "stdout",
     "output_type": "stream",
     "text": [
      "(60000, 'train samples')\n",
      "(10000, 'test samples')\n",
      "[5 0 4 ..., 5 6 8]\n"
     ]
    }
   ],
   "source": [
    "# read mnist data\n",
    "# the data, shuffled and split between tran and test sets\n",
    "(X_train, y_train), (X_test, y_test) = mnist.load_data()\n",
    "\n",
    "# data augmentation?\n",
    "#A = img.shape[0] / 3.0\n",
    "#w = 2.0 / img.shape[1]\n",
    "#shift = lambda x: A * np.sin(2.0*np.pi*x * w)\n",
    "#for i in range(img.shape[0]):\n",
    "#    img[:,i] = np.roll(img[:,i], int(shift(i)))\n",
    "\n",
    "X_train = X_train.reshape(60000, 784)\n",
    "X_test = X_test.reshape(10000, 784)\n",
    "X_train = X_train.astype('float32')\n",
    "X_test = X_test.astype('float32')\n",
    "X_train /= 255\n",
    "X_test /= 255\n",
    "print(X_train.shape[0], 'train samples')\n",
    "print(X_test.shape[0], 'test samples')\n",
    "\n",
    "print y_train"
   ]
  },
  {
   "cell_type": "markdown",
   "metadata": {},
   "source": [
    "Using data from number 3 in the MNIST dataset and random values as $g(x)$."
   ]
  },
  {
   "cell_type": "code",
   "execution_count": 4,
   "metadata": {
    "collapsed": false
   },
   "outputs": [
    {
     "name": "stdout",
     "output_type": "stream",
     "text": [
      "6131\n",
      "6131\n"
     ]
    }
   ],
   "source": [
    "# Generating datasets\n",
    "X_train_1 = X_train[y_train == 3]\n",
    "X_test_1 = X_test[y_test == 3]\n",
    "#X_train_1 = X_train_1[np.random.choice(len(X_train_1),3000)]\n",
    "#X_test_1 = X_test_1[np.random.choice(len(X_test_1),3000)]\n",
    "y_train_1 = np.ones(X_train_1.shape[0])\n",
    "y_test_1 = np.ones(X_test_1.shape[0])\n",
    "\n",
    "X_train_rng = np.random.randint(256, size = (X_train_1.shape[0],X_train_1.shape[1])).astype('float32')\n",
    "X_train_rng /= 255\n",
    "X_test_rng = np.random.randint(256, size = (X_test_1.shape[0],X_test_1.shape[1])).astype('float32')\n",
    "X_test_rng /= 255\n",
    "y_train_rng = np.zeros(X_train_rng.shape[0])\n",
    "y_test_rng = np.zeros(X_test_rng.shape[0])\n",
    "\n",
    "X_train_ = np.vstack((X_train_1,X_train_rng))\n",
    "y_train_ = np.append(y_train_1,y_train_rng)\n",
    "X_test_ = np.vstack((X_test_1,X_test_rng))\n",
    "y_test_ = np.append(y_test_1,y_test_rng)\n",
    "y_train_ = np_utils.to_categorical(y_train_, 2)\n",
    "y_test_ = np_utils.to_categorical(y_test_, 2)\n",
    "\n",
    "print X_train_1.shape[0]\n",
    "print X_train_rng.shape[0]\n"
   ]
  },
  {
   "cell_type": "code",
   "execution_count": 5,
   "metadata": {
    "collapsed": false
   },
   "outputs": [
    {
     "data": {
      "text/plain": [
       "<matplotlib.image.AxesImage at 0xb9ddf90>"
      ]
     },
     "execution_count": 5,
     "metadata": {},
     "output_type": "execute_result"
    },
    {
     "data": {
      "image/png": "[encoded data removed]",
      "text/plain": [
       "<matplotlib.figure.Figure at 0x724f490>"
      ]
     },
     "metadata": {},
     "output_type": "display_data"
    }
   ],
   "source": [
    "from matplotlib.pyplot import imshow, cm\n",
    "# Plot mnist values\n",
    "fig = plt.figure()\n",
    "fig.add_subplot(121)\n",
    "\n",
    "x_show = X_train_rng[10] * 255.\n",
    "imshow(x_show.reshape((28,28)), cmap=cm.gray)\n",
    "\n",
    "fig.add_subplot(122)\n",
    "\n",
    "x_show = X_train_1[0] * 255.\n",
    "imshow(x_show.reshape((28,28)), cmap=cm.gray)\n"
   ]
  },
  {
   "cell_type": "markdown",
   "metadata": {},
   "source": [
    "Define neural network model to train on MNIST dataset."
   ]
  },
  {
   "cell_type": "code",
   "execution_count": 6,
   "metadata": {
    "collapsed": false
   },
   "outputs": [],
   "source": [
    "# Define classifier model\n",
    "batch_size = 128\n",
    "nb_classes = 2\n",
    "nb_epoch = 2\n",
    "\n",
    "img_p = K.placeholder((1,784))\n",
    "\n",
    "first_layer = Dense(512, input_shape=(784,))\n",
    "first_layer.input = img_p\n",
    "model = Sequential()\n",
    "model.add(first_layer)\n",
    "model.add(Activation('relu'))\n",
    "model.add(Dropout(0.2))\n",
    "model.add(Dense(512))\n",
    "model.add(Activation('relu'))\n",
    "model.add(Dropout(0.2))\n",
    "model.add(Dense(2))\n",
    "model.add(Activation('softmax'))\n",
    "\n",
    "rms = RMSprop()\n",
    "model.compile(loss='mean_squared_error', optimizer=rms)\n",
    "\n"
   ]
  },
  {
   "cell_type": "markdown",
   "metadata": {},
   "source": [
    "Functions to compute score distributions."
   ]
  },
  {
   "cell_type": "code",
   "execution_count": 7,
   "metadata": {
    "collapsed": false
   },
   "outputs": [],
   "source": [
    "# Fuction to generate histograms\n",
    "bins = 300\n",
    "low = 0.\n",
    "high = 1.  \n",
    "c1_g=''\n",
    "  \n",
    "w = ROOT.RooWorkspace('w')\n",
    "\n",
    "w.factory('score[{0},{1}]'.format(low,high))\n",
    "s = w.var('score')\n",
    "  \n",
    "def saveHisto(w,outputs,s,bins,low,high,k='F0',j='F1', name_sufix = ''):\n",
    "    \n",
    "    print 'Estimating {0} {1}'.format(k,j)\n",
    "    for l,name in enumerate(['sig','bkg']):\n",
    "      data = ROOT.RooDataSet('{0}data_{1}_{2}{3}'.format(name,k,j,name_sufix),\"data\",\n",
    "          ROOT.RooArgSet(s))\n",
    "      hist = ROOT.TH1F('{0}hist_{1}_{2}{3}'.format(name,k,j,name_sufix),'hist',bins,low,high)\n",
    "      values = outputs[l]\n",
    "      #values = values[self.findOutliers(values)]\n",
    "      for val in values:\n",
    "        hist.Fill(val)\n",
    "        s.setVal(val)\n",
    "        data.add(ROOT.RooArgSet(s))\n",
    "      norm = 1./hist.Integral()\n",
    "      hist.Scale(norm) \n",
    "        \n",
    "      s.setBins(bins)\n",
    "      datahist = ROOT.RooDataHist('{0}datahist_{1}_{2}{3}'.format(name,k,j,name_sufix),'hist',\n",
    "            ROOT.RooArgList(s),hist)\n",
    "      histpdf = ROOT.RooHistFunc('{0}histpdf_{1}_{2}{3}'.format(name,k,j,name_sufix),'hist',\n",
    "            ROOT.RooArgSet(s), datahist, 1)\n",
    "\n",
    "      getattr(w,'import')(hist)\n",
    "      getattr(w,'import')(data)\n",
    "      getattr(w,'import')(datahist) # work around for morph = w.import(morph)\n",
    "      getattr(w,'import')(histpdf) # work around for morph = w.import(morph)\n",
    "      score_str = 'score'\n",
    "      # Calculate the density of the classifier output using kernel density \n",
    "      #w.factory('KeysPdf::{0}dist_{1}_{2}({3},{0}data_{1}_{2},RooKeysPdf::NoMirror,2)'.format(name,k,j,score_str))\n",
    "\n"
   ]
  },
  {
   "cell_type": "code",
   "execution_count": 8,
   "metadata": {
    "collapsed": true
   },
   "outputs": [],
   "source": [
    "# some helper functions\n",
    "def findOutliers(x):\n",
    "  q5, q95 = np.percentile(x, [5,95])  \n",
    "  iqr = 2.*(q95 - q5)\n",
    "  outliers = (x <= q95 + iqr) & (x >= q5 - iqr)\n",
    "  return outliers\n",
    "def singleRatio(f0,f1):\n",
    "  ratio = f1 / f0\n",
    "  ratio[np.abs(ratio) == np.inf] = 0 \n",
    "  ratio[np.isnan(ratio)] = 0\n",
    "  return ratio\n",
    "\n",
    "def evalDist(x,f0,val):\n",
    "  iter = x.createIterator()\n",
    "  v = iter.Next()\n",
    "  i = 0\n",
    "  while v:\n",
    "    v.setVal(val[i])\n",
    "    v = iter.Next()\n",
    "    i = i+1\n",
    "  return f0.getVal(x)"
   ]
  },
  {
   "cell_type": "markdown",
   "metadata": {},
   "source": [
    "Here the loss function and the gradients are defined for the negative log ratio, a regularizer is added to the loss in order to improve local coherence of the final images."
   ]
  },
  {
   "cell_type": "code",
   "execution_count": 9,
   "metadata": {
    "collapsed": false
   },
   "outputs": [],
   "source": [
    "# Gradient derivation and loss\n",
    "# VERY raw estimation\n",
    "epsilon = 1e-2\n",
    "score = ROOT.RooArgSet(w.var('score'))\n",
    "img_width = 28\n",
    "img_height = 28\n",
    "reg_alpha = .3\n",
    "\n",
    "def evaldPdS(p_dist,s_val,epsilon):\n",
    "    grad = (evalDist(score,p_dist,[s_val + epsilon]) - evalDist(score,p_dist,[s_val - epsilon])) / (2*epsilon)\n",
    "    return grad\n",
    "    \n",
    "def continuity_loss(x):\n",
    "    x_re = x.reshape((img_width,img_height))\n",
    "    a = K.square(x_re[:img_width-1,:img_height-1] - x_re[1:,:img_height-1])\n",
    "    b = K.square(x_re[:img_width-1,:img_height-1] - x_re[:img_width-1,1:])\n",
    "    return K.sum(K.pow(a + b, 1.25))\n",
    "\n",
    "reg_loss = K.variable(0.)\n",
    "reg_loss += continuity_loss(img_p) / (img_width * img_height)\n",
    "#reg_loss += K.sum(K.square(img_p)) / (img_width * img_height)\n",
    "\n",
    "s_out = K.variable(0.)\n",
    "x_out = model.get_output()\n",
    "\n",
    "s_out += x_out[:,1][0]\n",
    "\n",
    "grads = K.gradients(s_out, img_p)\n",
    "grads_reg = K.gradients(reg_loss,img_p)\n",
    "\n",
    "outputs = [s_out,grads]\n",
    "outputs_reg = [reg_loss, grads_reg]\n",
    "\n",
    "f_outputs = K.function([img_p], outputs)\n",
    "\n",
    "f_outputs_reg = K.function([img_p], outputs_reg)\n",
    "\n",
    "#F0pdf = w.function('bkghistpdf_F0_F1')\n",
    "#F1pdf = w.function('sighistpdf_F0_F1')\n",
    "\n",
    "def eval_loss_and_grads(X_val, epsilon, F1pdf = None, F0pdf = None):\n",
    "    s_output,dSdX = f_outputs([X_val.reshape((1,X_test_1.shape[1]))])\n",
    "    reg, reg_grad = f_outputs_reg([X_val.reshape((1,X_test_1.shape[1]))])\n",
    "    dPdS_1 = evaldPdS(F1pdf,s_output,epsilon)\n",
    "    dPdS_0 = evaldPdS(F0pdf,s_output,epsilon)\n",
    "    dlog_1 = evalDist(score,F1pdf,[s_output])\n",
    "    dlog_0 = evalDist(score,F0pdf,[s_output])\n",
    "    # TODO: Not sure if this is ok, avoiding 0 probability cases\n",
    "    dlog_1 = dlog_1 if dlog_1 <> 0. else 1e-4\n",
    "    dlog_0 = dlog_0 if dlog_0 <> 0. else 1e-4\n",
    "    #print 'grad: {0}, {1}, {2}, {3}'.format(dlog_1, dlog_0, dPdS_1, dPdS_0)\n",
    "    loss = - np.log(dlog_1) + np.log(dlog_0)\n",
    "    #print 'loss: {0}'.format(loss)\n",
    "    dlog_1 = 1./dlog_1\n",
    "    dlog_0 = 1./dlog_0\n",
    "    loss = loss if not np.isinf(np.abs(loss)) else 0.\n",
    "    # Full gradient\n",
    "    grad =  dSdX*(dlog_0 * dPdS_0 - dlog_1 * dPdS_1)    \n",
    "    #pdb.set_trace()\n",
    "    return loss + reg_alpha*reg, grad.flatten().astype('float64') + reg_alpha*reg_grad.flatten().astype('float64')\n"
   ]
  },
  {
   "cell_type": "code",
   "execution_count": 10,
   "metadata": {
    "collapsed": true
   },
   "outputs": [],
   "source": [
    "# Class to do loss and gradient evaluation, to use it in optimizer\n",
    "class Evaluator(object):\n",
    "    def __init__(self):\n",
    "        self.loss_value = None\n",
    "        self.grads_values = None\n",
    "        self.epsilon = epsilon\n",
    "        self.F1_pdf = None\n",
    "        self.F0_pdf = None\n",
    "\n",
    "    def loss(self, x):\n",
    "        #assert self.loss_value is None\n",
    "        if self.F1_pdf == self.F0_pdf == None:\n",
    "            loss_value, grad_values = eval_loss_and_grads(x,epsilon)\n",
    "        else:\n",
    "            loss_value, grad_values = eval_loss_and_grads(x,epsilon,self.F1_pdf,self.F0_pdf)\n",
    "    \n",
    "        self.loss_value = loss_value\n",
    "        self.grad_values = grad_values\n",
    "        return self.loss_value\n",
    "\n",
    "    def grads(self, x):\n",
    "        assert self.loss_value is not None\n",
    "        grad_values = np.copy(self.grad_values)\n",
    "        self.loss_value = None\n",
    "        self.grad_values = None\n",
    "        return grad_values\n",
    "    \n",
    "    def set_epsilon(self,epsilon):\n",
    "        self.epsilon = epsilon\n",
    "    \n",
    "    def set_distributions(self,F1_pdf, F0_pdf):\n",
    "        self.F1_pdf = F1_pdf\n",
    "        self.F0_pdf = F0_pdf\n",
    "    \n",
    "evaluator = Evaluator()"
   ]
  },
  {
   "cell_type": "markdown",
   "metadata": {},
   "source": [
    "Samples from the uniform distribution are transformed in order to minimize the negative log ratio by using gradient descent."
   ]
  },
  {
   "cell_type": "code",
   "execution_count": 11,
   "metadata": {
    "collapsed": false
   },
   "outputs": [],
   "source": [
    "# Transform random sample to mnist number\n",
    "n_epochs_tran = 5\n",
    "def transformDataset(X):\n",
    "    mean_loss = np.zeros(n_epochs_tran)\n",
    "    for k in range(X.shape[0]):\n",
    "        if k % 1000 == 0:\n",
    "            print 'Processing {0}'.format(k)\n",
    "        for e in range(n_epochs_tran):\n",
    "            x = X[k]\n",
    "            x, min_val, info = fmin_l_bfgs_b(evaluator.loss, x.flatten(),\n",
    "                                     fprime=evaluator.grads, maxfun=7)\n",
    "            mean_loss[e] += min_val\n",
    "            #if k < 10:\n",
    "            #    print 'loss {0},{1}: {2}:'.format(k,e,min_val)\n",
    "            x_max = x.max()\n",
    "            x = np.clip(x,0.,x_max) / x_max\n",
    "            X[k] = x\n",
    "    mean_loss /= n_epochs_tran \n",
    "    return X, mean_loss\n"
   ]
  },
  {
   "cell_type": "markdown",
   "metadata": {},
   "source": [
    "The full iterative algorithm used to learn the generative model and sample data from it is defined. The neural network is trained to classify between MNIST numbers and random noise and then the data used as noise is transformed using the previously mentioned procedure, then the transformed data is used as random noise and the procedure is repeated. Each time the sampled images are improved. An intuition of why this method is needed is presented below."
   ]
  },
  {
   "cell_type": "code",
   "execution_count": 12,
   "metadata": {
    "collapsed": false
   },
   "outputs": [
    {
     "name": "stdout",
     "output_type": "stream",
     "text": [
      "Training iteration: 0\n",
      "Epoch 1/2\n",
      "2s - loss: 0.0038 - acc: 0.9948\n",
      "Epoch 2/2\n",
      "2s - loss: 6.0633e-05 - acc: 1.0000\n",
      "6131/6131 [==============================] - 0s     \n",
      "6131/6131 [==============================] - 0s     \n",
      "Estimating F0 F1\n",
      "Processing 0\n",
      "Processing 1000\n",
      "Processing 2000\n",
      "Processing 3000\n",
      "Processing 4000\n",
      "Processing 5000\n",
      "Processing 6000\n",
      "Training iteration: 1\n",
      "Epoch 1/2\n",
      "2s - loss: 0.0493 - acc: 0.9472\n",
      "Epoch 2/2\n",
      "2s - loss: 4.9186e-04 - acc: 1.0000\n",
      "6131/6131 [==============================] - 0s     \n",
      "6131/6131 [==============================] - 0s     \n",
      "Estimating F0 F1\n",
      "Processing 0\n",
      "Processing 1000\n",
      "Processing 2000\n",
      "Processing 3000\n",
      "Processing 4000\n",
      "Processing 5000\n",
      "Processing 6000\n",
      "Training iteration: 2\n",
      "Epoch 1/2\n",
      "2s - loss: 0.0275 - acc: 0.9693\n",
      "Epoch 2/2\n",
      "4s - loss: 0.0013 - acc: 0.9989\n",
      "6131/6131 [==============================] - 0s     \n",
      "6131/6131 [==============================] - 0s     "
     ]
    },
    {
     "name": "stderr",
     "output_type": "stream",
     "text": [
      "TCanvas::Constructor:0: RuntimeWarning: Deleting canvas with same name: c1\n",
      "TCanvas::Constructor:0: RuntimeWarning: Deleting canvas with same name: c1\n"
     ]
    },
    {
     "name": "stdout",
     "output_type": "stream",
     "text": [
      "\n",
      "Estimating F0 F1\n",
      "Processing 0\n",
      "Processing 1000\n",
      "Processing 2000\n",
      "Processing 3000\n",
      "Processing 4000\n",
      "Processing 5000\n",
      "Processing 6000\n",
      "Training iteration: 3\n",
      "Epoch 1/2\n",
      "4s - loss: 0.0278 - acc: 0.9643\n",
      "Epoch 2/2\n",
      "6s - loss: 0.0059 - acc: 0.9935\n",
      "6131/6131 [==============================] - 0s     \n",
      "6131/6131 [==============================] - 0s     \n",
      "Estimating F0 F1\n",
      "Processing 0\n",
      "Processing 1000\n",
      "Processing 2000\n",
      "Processing 3000\n",
      "Processing 4000\n",
      "Processing 5000\n",
      "Processing 6000\n",
      "Training iteration: 4\n",
      "Epoch 1/2\n",
      "6s - loss: 0.0263 - acc: 0.9676\n",
      "Epoch 2/2\n",
      "7s - loss: 0.0066 - acc: 0.9922\n",
      "6131/6131 [==============================] - 0s     \n",
      "6131/6131 [==============================] - 0s     "
     ]
    },
    {
     "name": "stderr",
     "output_type": "stream",
     "text": [
      "TCanvas::Constructor:0: RuntimeWarning: Deleting canvas with same name: c1\n",
      "TCanvas::Constructor:0: RuntimeWarning: Deleting canvas with same name: c1\n"
     ]
    },
    {
     "name": "stdout",
     "output_type": "stream",
     "text": [
      "\n",
      "Estimating F0 F1\n",
      "Processing 0\n",
      "Processing 1000\n",
      "Processing 2000\n",
      "Processing 3000\n",
      "Processing 4000\n",
      "Processing 5000\n",
      "Processing 6000\n"
     ]
    }
   ],
   "source": [
    "# Iterative algorithm used to sample data\n",
    "\n",
    "n_iter = 5\n",
    "X_train_sampled = np.copy(X_train_rng)\n",
    "# Full set of data to retrain\n",
    "X_train_new = np.vstack((X_train_1,X_train_sampled))\n",
    "# five samples shown\n",
    "x_conv = [np.zeros((5, X_train_sampled.shape[1])) for i in range(n_iter)]\n",
    "    \n",
    "verbose_printing=True\n",
    "\n",
    "for it in range(n_iter):\n",
    "    print 'Training iteration: {0}'.format(it)\n",
    "    model.fit(X_train_new, y_train_,\n",
    "          batch_size=batch_size, nb_epoch=nb_epoch,\n",
    "          show_accuracy=True, verbose=2)    \n",
    "    # Not evaluating the model right now\n",
    "    #score = model.evaluate(X_test_, y_test_,\n",
    "    #                   show_accuracy=True, verbose=0)\n",
    "    #print('Test score:', score[0])\n",
    "    #print('Test accuracy:', score[1])\n",
    "    outputs = [model.predict_proba(X_train_1, batch_size=batch_size)[:,1],\n",
    "            model.predict_proba(X_train_sampled, batch_size=batch_size)[:,1]]\n",
    "\n",
    "    saveHisto(w,outputs, s, bins, low, high, name_sufix=it)\n",
    "    F0_pdf = w.function('bkghistpdf_F0_F1{0}'.format(it))\n",
    "    F1_pdf = w.function('sighistpdf_F0_F1{0}'.format(it))\n",
    "\n",
    "    if verbose_printing == True:\n",
    "        can = printFrame(w,['score'],[w.function('sighistpdf_F0_F1{0}'.format(it)),\n",
    "                      w.function('bkghistpdf_F0_F1{0}'.format(it))], \n",
    "                     'generative_mnist_score{0}'.format(it),['signal','bkg'],\n",
    "                      dir=dir,y_text='score(x)',print_pdf=True,title='Pairwise score distributions',\n",
    "                      use_rootnotes=False)\n",
    "    evaluator.set_distributions(F1_pdf, F0_pdf)\n",
    "    if it > 3:\n",
    "        evaluator.set_epsilon(1e-4)\n",
    "    X_train_sampled,mean_loss = transformDataset(X_train_sampled)\n",
    "    #print 'iteration {0}'.format(it)\n",
    "    #print mean_loss\n",
    "    X_train_new = np.vstack((X_train_1,X_train_sampled))\n",
    "    x_conv[it] = np.copy(X_train_sampled[:5])\n",
    "  \n"
   ]
  },
  {
   "cell_type": "markdown",
   "metadata": {},
   "source": [
    "Here we show how the sampled numbers change as the method is retrained."
   ]
  },
  {
   "cell_type": "code",
   "execution_count": 20,
   "metadata": {
    "collapsed": false
   },
   "outputs": [
    {
     "data": {
      "image/png": "[encoded data removed]",
      "text/plain": [
       "<matplotlib.figure.Figure at 0x222e9350>"
      ]
     },
     "metadata": {},
     "output_type": "display_data"
    }
   ],
   "source": [
    "# Plotting sampled numbers\n",
    "n = 0\n",
    "\n",
    "fig = plt.figure(figsize=(15,2))\n",
    "\n",
    "fig.add_subplot(1,n_iter+1,1)\n",
    "x_show = X_train_rng[n] * 255\n",
    "imshow(x_show.reshape((28,28)), cmap=cm.gray, aspect='auto')\n",
    "plt.axis('off')\n",
    "\n",
    "for k in range(n_iter):\n",
    "    fig.add_subplot(1,n_iter+1,k + 2)\n",
    "\n",
    "    x_show = x_conv[k][n] * 255.\n",
    "    imshow(x_show.reshape((28,28)), cmap=cm.gray, aspect='auto')\n",
    "    plt.axis('off')\n",
    "\n",
    "fig.show()\n",
    "\n",
    "plt.autoscale(False)"
   ]
  },
  {
   "cell_type": "markdown",
   "metadata": {},
   "source": [
    "Intuitivelly, on intial steps the gradient of the score distribution given the score  $\\frac{d p(s(x))}{d s}$ have just a little information on how to transform the random noise into a MNIST number, this is because the neural network do a great work indentifying between noise and a MNIST number, then most of the values of the distribution are concentrated on the edges giving no clue about its gradients. As the iteration continues the task of identifying between MNIST numbers and the sampled results become harder and there is more information in the derivative in order to make the transformation. \n",
    "\n",
    "This are initial results, some things to solve are:\n",
    "- As mentioned before, the gradients of the probability distribution are problematic in the initial steps since the approximated distribution is peaky. I think that this can be solved by using a monotonic transformation of the score which allow more smooth distributions or using better approximation methods (maybe GP?).\n",
    "- Right now the method is not working for multimodal distributions (all the MNIST numbers). I need to understand why this is happening.\n",
    "- The iterative method can be understood as a deep model where each iteration is training a different layer of the deep model. Then the final model is the stacked version of all the models trained in each iteration where each layer is making a better estimation using the output of the previous layer (just like a DBN). This can be used as an unsupervised pretraining strategy. Experiments need to be made on this."
   ]
  },
  {
   "cell_type": "code",
   "execution_count": null,
   "metadata": {
    "collapsed": true
   },
   "outputs": [],
   "source": []
  }
 ],
 "metadata": {
  "kernelspec": {
   "display_name": "Python 2",
   "language": "python",
   "name": "python2"
  },
  "language_info": {
   "codemirror_mode": {
    "name": "ipython",
    "version": 2
   },
   "file_extension": ".py",
   "mimetype": "text/x-python",
   "name": "python",
   "nbconvert_exporter": "python",
   "pygments_lexer": "ipython2",
   "version": "2.7.5"
  }
 },
 "nbformat": 4,
 "nbformat_minor": 0
}
