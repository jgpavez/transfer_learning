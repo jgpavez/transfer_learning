{
 "cells": [
  {
   "cell_type": "markdown",
   "metadata": {},
   "source": [
    "## Unsupervised Learning using Approximated Density Ratios\n",
    "\n",
    "We can estimate any distribution directly by using approximated density ratios. The idea is simple.\n",
    "To estimate the density ratio $f(x) / g(x)$ we can train a classifier $s(x)$ to discriminate between $f(x)$ and $g(x)$, then we can replace $f(x)/g(x) = f(s(x))/g(s(x))$.\n",
    "Thus, having data $x \\sim g(x)$ we can recover the distribution $f(x)$ by weighting the data by $w = f(s(x))/g(s(x))$.\n",
    "Now, if we use an uniform distribution as $g(x) = U(x)$ we can estimate any $f(x)$ by:\n",
    " - Having data from $x_f \\sim f(x)$ we generate data from a uniform distribution $x_g \\sim U(x)$\n",
    " - Train a classifier to classify between $x_f$ and $x_g$.\n",
    " - Compute the ratios $f(s(x))/g((x))$.\n",
    " - Reweight data from $x_g \\sim U(x)$ using $f(s(x))/g((x))$\n",
    " \n",
    "This can be considered as an alternative to unsupervised learning methods such as GANs, RBM, DBN, autoencoders that try to estimate directly the distribution $f(x)$.\n",
    "\n",
    "Data generation can be done using the ratio as a cost function and modify an uniformly generated sample in order to maximize the ratio.\n",
    "\n",
    "We now show how to estimate a simple 1-dim distribution."
   ]
  },
  {
   "cell_type": "code",
   "execution_count": 16,
   "metadata": {
    "collapsed": true
   },
   "outputs": [],
   "source": [
    "import ROOT\n",
    "from sklearn.metrics import roc_curve, auc\n",
    "from sklearn.ensemble import GradientBoostingClassifier\n",
    "from sklearn import cross_validation\n",
    "from xgboost_wrapper import XGBoostClassifier\n",
    "\n",
    "import matplotlib.pyplot as plt\n",
    "\n",
    "from mlp import make_predictions, train_mlp\n",
    "from utils import printFrame,makePlotName,makeSigBkg,saveFig\n",
    "\n",
    "import numpy as np\n",
    "\n",
    "import os\n",
    "\n",
    "%matplotlib inline"
   ]
  },
  {
   "cell_type": "markdown",
   "metadata": {},
   "source": [
    "Some global parameters (classifier used, number of features, ...)"
   ]
  },
  {
   "cell_type": "code",
   "execution_count": 17,
   "metadata": {
    "collapsed": false
   },
   "outputs": [],
   "source": [
    "workspace_file = 'workspace_transfer.root'\n",
    "vars_g = ['x']\n",
    "dir='.'\n",
    "model_g='mlp'\n",
    "verbose_printing=False\n",
    "seed = 1234\n",
    "rng = np.random.RandomState(seed)"
   ]
  },
  {
   "cell_type": "markdown",
   "metadata": {},
   "source": [
    "Defining the distribution $f(x)$ being estimated."
   ]
  },
  {
   "cell_type": "code",
   "execution_count": 18,
   "metadata": {
    "collapsed": false
   },
   "outputs": [],
   "source": [
    "# Statistical model\n",
    "w = ROOT.RooWorkspace('w')\n",
    "w.factory(\"EXPR::f0('exp(-(x-3.5)**2/1.)',x[0,15])\")\n",
    "#w.factory(\"EXPR::f1('exp(-(x-1.5)**2/5.)',x)\")\n",
    "\n",
    "# Check Model\n",
    "w.Print()\n",
    "if verbose_printing == True:\n",
    "     printFrame(w,['x'],[w.pdf('f0')],'transfered',['f0']\n",
    "    ,dir=dir,model_g=model_g,range=[-15,20],title='Single distributions',x_text='x0',y_text='p(x)',\n",
    "     print_pdf=True)"
   ]
  },
  {
   "cell_type": "markdown",
   "metadata": {},
   "source": [
    "Generating data from $f(x)$ and an uniform distributon $g(x)=U(x)$."
   ]
  },
  {
   "cell_type": "code",
   "execution_count": 19,
   "metadata": {
    "collapsed": false
   },
   "outputs": [
    {
     "name": "stdout",
     "output_type": "stream",
     "text": [
      "Making Data\n"
     ]
    },
    {
     "data": {
      "text/plain": [
       "[]"
      ]
     },
     "execution_count": 19,
     "metadata": {},
     "output_type": "execute_result"
    },
    {
     "data": {
      "image/png": "[encoded data removed]",
      "text/plain": [
       "<matplotlib.figure.Figure at 0x63fdd50>"
      ]
     },
     "metadata": {},
     "output_type": "display_data"
    }
   ],
   "source": [
    "# Start generating data\n",
    "num_train = 100000\n",
    "num_test = 5000\n",
    "num_uniform = 100000\n",
    "num_train_1 = num_train #f0\n",
    "num_train_2 = num_uniform #f1\n",
    "\n",
    "print 'Making Data'\n",
    "# Start generating data\n",
    "\n",
    "   \n",
    "# make data from root pdf\n",
    "def makeDataFi(x, pdf, num):\n",
    "    traindata = np.zeros((num,len(vars_g))) \n",
    "    data = pdf.generate(x,num)\n",
    "    traindata[:] = [[data.get(i).getRealValue(var) for var in vars_g]\n",
    "        for i in range(num)]\n",
    "    return traindata\n",
    "  \n",
    "  # features\n",
    "vars = ROOT.TList()\n",
    "for var in vars_g:\n",
    "    vars.Add(w.var(var))\n",
    "x = ROOT.RooArgSet(vars)\n",
    "\n",
    "train_uniform = np.zeros((num_uniform + num_train, len(vars_g) + 1))\n",
    "\n",
    "\n",
    "data_f0 =  makeDataFi(x,w.pdf('f0'), num_train)\n",
    "    \n",
    "random_uniform = rng.uniform(0.,15.,num_uniform)\n",
    "data_f1 = random_uniform.reshape((random_uniform.shape[0],1))\n",
    "train_uniform[:num_train,:len(vars_g)] = data_f0\n",
    "train_uniform[num_train:,:len(vars_g)] = data_f1\n",
    "\n",
    "train_uniform[:num_uniform,-1] = np.ones(num_uniform)\n",
    "\n",
    "\n",
    "plt.hist(data_f0,bins=50,color='red',alpha=0.5,label='f0')\n",
    "plt.hist(data_f1,bins=50,color='blue',alpha=0.5,label='uniform')\n",
    "plt.legend()\n",
    "plt.plot()\n",
    "\n"
   ]
  },
  {
   "cell_type": "markdown",
   "metadata": {},
   "source": [
    "Train classifier to discriminate between both distributions"
   ]
  },
  {
   "cell_type": "code",
   "execution_count": 20,
   "metadata": {
    "collapsed": false
   },
   "outputs": [
    {
     "name": "stdout",
     "output_type": "stream",
     "text": [
      "... building the model\n",
      "... training\n",
      "Epoch: 1, cost: 28.3283584282\n",
      "Epoch: 2, cost: 23.9466945679\n",
      "Epoch: 3, cost: 23.6247479393\n",
      "Epoch: 4, cost: 23.5082363279\n",
      "Epoch: 5, cost: 23.4508908966\n",
      "Epoch: 6, cost: 23.4181287234\n",
      "Epoch: 7, cost: 23.3973955628\n",
      "Epoch: 8, cost: 23.3832326497\n",
      "Epoch: 9, cost: 23.3729204302\n",
      "Epoch: 10, cost: 23.3649337938\n",
      "Epoch: 11, cost: 23.3583474324\n",
      "Epoch: 12, cost: 23.3526217754\n",
      "Epoch: 13, cost: 23.3475011568\n",
      "Epoch: 14, cost: 23.3428886398\n",
      "Epoch: 15, cost: 23.3387361942\n",
      "Epoch: 16, cost: 23.3349987373\n",
      "Epoch: 17, cost: 23.3316278759\n",
      "Epoch: 18, cost: 23.3285757415\n",
      "Epoch: 19, cost: 23.3257984568\n",
      "Epoch: 20, cost: 23.3232577189\n",
      "Epoch: 21, cost: 23.3209210302\n",
      "Epoch: 22, cost: 23.318761225\n",
      "Epoch: 23, cost: 23.3167557224\n",
      "Epoch: 24, cost: 23.314885742\n",
      "Epoch: 25, cost: 23.3131355941\n",
      "Epoch: 26, cost: 23.311492081\n",
      "Epoch: 27, cost: 23.3099440145\n",
      "Epoch: 28, cost: 23.308481832\n",
      "Epoch: 29, cost: 23.3070972959\n",
      "Epoch: 30, cost: 23.3057832574\n",
      "Epoch: 31, cost: 23.3045334705\n",
      "Epoch: 32, cost: 23.303342444\n",
      "Epoch: 33, cost: 23.3022053232\n",
      "Epoch: 34, cost: 23.3011177947\n",
      "Epoch: 35, cost: 23.3000760084\n",
      "Epoch: 36, cost: 23.2990765139\n",
      "Epoch: 37, cost: 23.2981162081\n",
      "Epoch: 38, cost: 23.2971922916\n",
      "Epoch: 39, cost: 23.2963022319\n",
      "Epoch: 40, cost: 23.2954437334\n",
      "...saving model\n"
     ]
    }
   ],
   "source": [
    "\n",
    "model_file = 'train'\n",
    "n_epochs=40\n",
    "traindata = train_uniform[:,:-1]\n",
    "targetdata = train_uniform[:,-1]\n",
    "if model_g == 'mlp':\n",
    "    train_mlp((traindata, targetdata), save_file='{0}/{1}_F0_F1.pkl'.format(dir,model_file),n_epochs=n_epochs,\n",
    "             n_hidden=10)\n",
    "else:\n",
    "    indices = rng.permutation(traindata.shape[0])\n",
    "    traindata = traindata[indices]\n",
    "    targetdata = targetdata[indices]\n",
    "    scores = cross_validation.cross_val_score(clf, traindata, targetdata)\n",
    "    print \"Accuracy: {0} (+/- {1})\".format(scores.mean(), scores.std() * 2)\n",
    "    clf.fit(traindata,targetdata)\n",
    "    #clf.plot_importance_matrix(vars_names)\n",
    "    joblib.dump(clf, '{0}/{1}_F0_F1.pkl'.format(dir,model_file))\n"
   ]
  },
  {
   "cell_type": "code",
   "execution_count": 21,
   "metadata": {
    "collapsed": true
   },
   "outputs": [],
   "source": [
    "# Prediction function \n",
    "def predict(filename, traindata,model_g='mlp', sig=1):\n",
    "  sfilename,k,j = filename.split('/')[-1].split('_')\n",
    "  sfilename = '/'.join(filename.split('/')[:-1]) + '/' +  sfilename\n",
    "  j = j.split('.')[0]\n",
    "  sig = 1\n",
    "  if k <> 'F0':\n",
    "    k = int(k)\n",
    "    j = int(j)\n",
    "    sig = 1 if k < j else 0\n",
    "    filename = '{0}_{1}_{2}.pkl'.format(sfilename,min(k,j),max(k,j))\n",
    "  if model_g == 'mlp':\n",
    "    return make_predictions(dataset=traindata, model_file=filename,n_hidden=10)[:,sig]\n",
    "  else:\n",
    "    clf = joblib.load(filename)\n",
    "    if clf.__class__.__name__ == 'NuSVR':\n",
    "      output = clf.predict(traindata)\n",
    "      return np.clip(output,0.,1.)\n",
    "    else:\n",
    "      return clf.predict_proba(traindata)[:,sig]\n"
   ]
  },
  {
   "cell_type": "markdown",
   "metadata": {},
   "source": [
    "Estimate distributions $f(s(x))$ and $g(s(x))$."
   ]
  },
  {
   "cell_type": "code",
   "execution_count": 22,
   "metadata": {
    "collapsed": false
   },
   "outputs": [
    {
     "name": "stdout",
     "output_type": "stream",
     "text": [
      "Generating Score Histograms\n",
      "F0/F1\n",
      "Estimating F0 F1\n"
     ]
    }
   ],
   "source": [
    "\n",
    "bins = 80\n",
    "low = 0.\n",
    "high = 1.  \n",
    "c1_g=''\n",
    "print 'Generating Score Histograms'\n",
    "\n",
    "w.factory('score[{0},{1}]'.format(low,high))\n",
    "s = w.var('score')\n",
    "  \n",
    "def saveHisto(w,outputs,s,bins,low,high,k='F0',j='F1'):\n",
    "    \n",
    "    print 'Estimating {0} {1}'.format(k,j)\n",
    "    for l,name in enumerate(['sig','bkg']):\n",
    "      data = ROOT.RooDataSet('{0}data_{1}_{2}'.format(name,k,j),\"data\",\n",
    "          ROOT.RooArgSet(s))\n",
    "      hist = ROOT.TH1F('{0}hist_{1}_{2}'.format(name,k,j),'hist',bins,low,high)\n",
    "      values = outputs[l]\n",
    "      #values = values[self.findOutliers(values)]\n",
    "      for val in values:\n",
    "        hist.Fill(val)\n",
    "        s.setVal(val)\n",
    "        data.add(ROOT.RooArgSet(s))\n",
    "      norm = 1./hist.Integral()\n",
    "      hist.Scale(norm) \n",
    "        \n",
    "      s.setBins(bins)\n",
    "      datahist = ROOT.RooDataHist('{0}datahist_{1}_{2}'.format(name,k,j),'hist',\n",
    "            ROOT.RooArgList(s),hist)\n",
    "      histpdf = ROOT.RooHistFunc('{0}histpdf_{1}_{2}'.format(name,k,j),'hist',\n",
    "            ROOT.RooArgSet(s), datahist, 1)\n",
    "\n",
    "      getattr(w,'import')(hist)\n",
    "      getattr(w,'import')(data)\n",
    "      getattr(w,'import')(datahist) # work around for morph = w.import(morph)\n",
    "      getattr(w,'import')(histpdf) # work around for morph = w.import(morph)\n",
    "      score_str = 'score'\n",
    "      # Calculate the density of the classifier output using kernel density \n",
    "      #w.factory('KeysPdf::{0}dist_{1}_{2}({3},{0}data_{1}_{2},RooKeysPdf::NoMirror,2)'.format(name,k,j,score_str))\n",
    "\n",
    "\n",
    "\n",
    "print 'F0/F1'\n",
    "outputs = [predict('/afs/cern.ch/work/j/jpavezse/private/transfer_learning/{0}_F0_F1.pkl'.format(model_file),\n",
    "                   traindata[targetdata==1],model_g=model_g),\n",
    "            predict('/afs/cern.ch/work/j/jpavezse/private/transfer_learning/{0}_F0_F1.pkl'.format(model_file),\n",
    "                    traindata[targetdata==0],model_g=model_g)]\n",
    "\n",
    "saveHisto(w,outputs,s, bins, low, high)\n",
    "\n",
    "if verbose_printing == True:\n",
    "    can = printFrame(w,['score'],[w.function('sighistpdf_F0_F1'),w.function('bkghistpdf_F0_F1')], makePlotName('full',\n",
    "    'all',type='hist',dir=dir,c1_g=c1_g,model_g=model_g),['signal','bkg'],\n",
    "  dir=dir,model_g=model_g,y_text='score(x)',print_pdf=True,title='Pairwise score distributions',use_rootnotes=False)\n"
   ]
  },
  {
   "cell_type": "code",
   "execution_count": 23,
   "metadata": {
    "collapsed": true
   },
   "outputs": [],
   "source": [
    "def findOutliers(x):\n",
    "  q5, q95 = np.percentile(x, [5,95])  \n",
    "  iqr = 2.*(q95 - q5)\n",
    "  outliers = (x <= q95 + iqr) & (x >= q5 - iqr)\n",
    "  return outliers\n",
    "def singleRatio(f0,f1):\n",
    "  ratio = f1 / f0\n",
    "  ratio[np.abs(ratio) == np.inf] = 0 \n",
    "  ratio[np.isnan(ratio)] = 0\n",
    "  return ratio\n",
    "\n",
    "def evalDist(x,f0,val):\n",
    "  iter = x.createIterator()\n",
    "  v = iter.Next()\n",
    "  i = 0\n",
    "  while v:\n",
    "    v.setVal(val[i])\n",
    "    v = iter.Next()\n",
    "    i = i+1\n",
    "  return f0.getVal(x)"
   ]
  },
  {
   "cell_type": "markdown",
   "metadata": {},
   "source": [
    "Use ratios to weight data from $x_g \\sim U(x)$ in order to estimate $f(x)$."
   ]
  },
  {
   "cell_type": "code",
   "execution_count": 24,
   "metadata": {
    "collapsed": false
   },
   "outputs": [
    {
     "name": "stdout",
     "output_type": "stream",
     "text": [
      "Calculating ratios\n",
      "[  3.69425049e-05   3.64258265e-05   3.61305817e-05   3.68686937e-05\n",
      "   3.74222777e-05   3.76080664e-05   6.08559854e-05   1.51015137e-03\n",
      "   3.71122545e-03   6.25350006e-03   1.32406287e-02   2.33225772e-02\n",
      "   3.79482793e-02   5.74590258e-02   9.09777977e-02   1.30336816e-01\n",
      "   1.81442996e-01   2.36441167e-01   3.17240768e-01   3.73749556e-01\n",
      "   4.82130580e-01   5.39874797e-01   5.35379461e-01   5.46584590e-01\n",
      "   5.50097558e-01   5.08095438e-01   4.54116620e-01   4.04087989e-01\n",
      "   3.19197195e-01   2.78904270e-01   1.97559515e-01   1.38016013e-01\n",
      "   9.36988061e-02   5.95230900e-02   3.67396697e-02   2.26171756e-02\n",
      "   1.31295104e-02   5.94798399e-03   3.55471503e-03   1.25679119e-03\n",
      "   6.04221528e-05   3.60258825e-05   3.64258267e-05   3.73853722e-05\n",
      "   3.57246203e-05   3.71639387e-05   3.64996379e-05   3.74960890e-05\n",
      "   3.68317883e-05   3.95628026e-05   3.79758618e-05   3.50972251e-05\n",
      "   3.63151099e-05   3.62043931e-05   3.65365435e-05   3.57984315e-05\n",
      "   3.68317883e-05   3.91568410e-05   3.61674875e-05   3.73115610e-05\n",
      "   3.83449178e-05   3.57984315e-05   3.53186587e-05   3.63151099e-05\n",
      "   3.77175226e-05   3.65734491e-05   3.75699002e-05   3.57984315e-05\n",
      "   3.62043931e-05   3.80127674e-05   3.81603898e-05   3.64258267e-05\n",
      "   3.78282394e-05   3.67948827e-05   3.62782043e-05   3.65734491e-05\n",
      "   3.69794107e-05   3.59091483e-05   3.70532219e-05   3.91199354e-05\n",
      "   3.62782043e-05   3.81972954e-05   3.83818234e-05   3.55769979e-05\n",
      "   3.87139738e-05   3.54662811e-05   3.65365435e-05   3.73115610e-05\n",
      "   3.67579771e-05   3.68317883e-05   3.77175226e-05   3.55400923e-05\n",
      "   3.66841659e-05   3.71270331e-05   3.77913338e-05   3.58353371e-05\n",
      "   3.58722427e-05   3.67579771e-05   3.78651450e-05   3.72008443e-05]\n"
     ]
    },
    {
     "data": {
      "text/plain": [
       "[]"
      ]
     },
     "execution_count": 24,
     "metadata": {},
     "output_type": "execute_result"
    },
    {
     "data": {
      "image/png": "[encoded data removed]",
      "text/plain": [
       "<matplotlib.figure.Figure at 0x80ea050>"
      ]
     },
     "metadata": {},
     "output_type": "display_data"
    }
   ],
   "source": [
    "\n",
    "print 'Calculating ratios'\n",
    "true_dist = False\n",
    "npoints = 50\n",
    "\n",
    "score = ROOT.RooArgSet(w.var('score'))\n",
    "getRatio = singleRatio\n",
    "\n",
    "# NN trained on complete model\n",
    "F0pdf = w.function('bkghistpdf_F0_F1')\n",
    "F1pdf = w.function('sighistpdf_F0_F1')\n",
    "\n",
    "# Plot ratios\n",
    "if true_dist == True and len(vars_g) == 1:\n",
    "    xarray = np.linspace(1.,15.,npoints)\n",
    "    # TODO: Harcoded dist names\n",
    "    F1dist = np.array([evalDist(x,w.pdf('f1'),[xs]) for xs in xarray])\n",
    "    F0dist = np.array([evalDist(x,w.pdf('f0'),[xs]) for xs in xarray])\n",
    "    trueRatio = getRatio(F1dist, F0dist)\n",
    "\n",
    "    outputs = predict('{0}/{1}_F0_F1.pkl'.format(dir,model_file),xarray,model_g=model_g)\n",
    "    F1fulldist = np.array([evalDist(score,F1pdf,[xs]) for xs in outputs])\n",
    "    F0fulldist = np.array([evalDist(score,F0pdf,[xs]) for xs in outputs])\n",
    "\n",
    "    completeRatio = getRatio(F0fulldist,F1fulldist)\n",
    "    \n",
    "    plt.plot(xarray, completeRatio)\n",
    "    plt.plot(xarray, trueRatio)\n",
    "  \n",
    "\n",
    "# Make transfer learning\n",
    "\n",
    "# Transforming f1 into f0\n",
    "data_f1 = train_uniform[train_uniform[:,-1] == 0.]\n",
    "data_f0 = train_uniform[train_uniform[:,-1] == 1.]\n",
    "testdata = data_f1[:,:-1]\n",
    "testtarget = data_f1[:,-1]\n",
    "\n",
    "outputs = predict('{0}/{1}_F0_F1.pkl'.format(dir,model_file),testdata,model_g=model_g)\n",
    "\n",
    "F1fulldist = np.array([evalDist(score,F1pdf,[xs]) for xs in outputs])\n",
    "F0fulldist = np.array([evalDist(score,F0pdf,[xs]) for xs in outputs])\n",
    "\n",
    "completeRatio = getRatio(F0fulldist,F1fulldist)\n",
    "\n",
    "bins = 100\n",
    "feature = 0\n",
    "x_range = (0.,15.)\n",
    "# Transfering distributions\n",
    "# Doing histogram manipulation\n",
    "fig,ax = plt.subplots()\n",
    "colors = ['b-','r-','k-']\n",
    "colors_rgb = ['blue','red','black']\n",
    "alpha = 0.5\n",
    "beta = 0.5\n",
    "\n",
    "hist,bins = np.histogram(data_f1[:,feature],bins=bins, range=x_range,density=True)\n",
    "\n",
    "hist_transfered_clf,bins_2 = np.histogram(data_f1[:,feature],bins=bins,\n",
    "                                          weights=completeRatio, range=x_range,density=True)\n",
    "\n",
    "hist0,bins0 = np.histogram(data_f0[:,feature], bins=bins, range=x_range,density=True)\n",
    "\n",
    "print hist_transfered_clf\n",
    "\n",
    "widths = np.diff(bins)\n",
    "\n",
    "ax.bar(bins[:-1], hist0,widths,label='f0',alpha=0.5,color='red')\n",
    "ax.bar(bins[:-1], hist,widths,label='uniform',alpha=0.5,color='blue')\n",
    "\n",
    "ax.bar(bins[:-1], hist_transfered_clf,widths,label='uniform weighted',\n",
    "        alpha=0.5,color='yellow')\n",
    "\n",
    "\n",
    "ax.legend(frameon=False,fontsize=11)\n",
    "ax.set_xlabel('x') \n",
    "ax.set_ylabel('p(x)') \n",
    "if len(vars_g) > 1:\n",
    "    ax.set_title('Transfered distributions feature {0}'.format(feature))\n",
    "else:\n",
    "    ax.set_title('Transfered distributions')\n",
    "file_plot =  makePlotName('all','transf',type='hist_v{0}'.format(feature),model_g=model_g) \n",
    "fig.savefig('{0}/plots/{1}/{2}.png'.format(dir,model_g,file_plot))\n",
    "\n",
    "#saveFig(xarray, [true_transfer, data_f0[:,0]], makePlotName('all','transf',type='hist'),title='Transfered distribution',labels=['Transfer True', 'Truth'],hist=True, print_pdf=True,dir=dir)\n",
    "plt.plot()"
   ]
  },
  {
   "cell_type": "code",
   "execution_count": null,
   "metadata": {
    "collapsed": false
   },
   "outputs": [],
   "source": []
  }
 ],
 "metadata": {
  "kernelspec": {
   "display_name": "Python 2",
   "language": "python",
   "name": "python2"
  },
  "language_info": {
   "codemirror_mode": {
    "name": "ipython",
    "version": 2
   },
   "file_extension": ".py",
   "mimetype": "text/x-python",
   "name": "python",
   "nbconvert_exporter": "python",
   "pygments_lexer": "ipython2",
   "version": "2.7.5"
  }
 },
 "nbformat": 4,
 "nbformat_minor": 0
}
