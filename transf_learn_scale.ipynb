{
 "cells": [
  {
   "cell_type": "markdown",
   "metadata": {},
   "source": [
    "## Using density ratios on data with different supports\n",
    "\n",
    "If both distributions have different supports we face a problem since we can find values in which the ratio $f(s(x))/g(s(x))$ become 0 or inf. This problem is inherent to the use of density ratios in reweighting or covariate shift methods. We can easily solve it by transforming data from $g(x)$ (the distribution being reweighted) using \n",
    "$$y^g = \\frac{(x^g - x_{min}^g)*(x_{max}^f - x_{min}^f)}{x^g_{max} - x^g_{min}} + x_{min}^f $$\n",
    "where $x^g \\sim g(x)$ and $x^f \\sim f(x)$.\n",
    "\n",
    "Then the ratio $f(x)/g'(x)$ can be computed where $g'(x)$ is the distribution on the transformed data. Reweighting data from $g(x)$ transformed using the same min and max values allows to recover $f(x)$.\n",
    "\n",
    "The problem is to know the min and max values of the distributions, in some cases those values can be known in advance.\n",
    "\n",
    "In the next notebook we show how this works on 1-dim data."
   ]
  },
  {
   "cell_type": "code",
   "execution_count": 58,
   "metadata": {
    "collapsed": true
   },
   "outputs": [],
   "source": [
    "import ROOT\n",
    "from sklearn.metrics import roc_curve, auc\n",
    "from sklearn.ensemble import GradientBoostingClassifier\n",
    "from sklearn import cross_validation\n",
    "from xgboost_wrapper import XGBoostClassifier\n",
    "\n",
    "import matplotlib.pyplot as plt\n",
    "\n",
    "from mlp import make_predictions, train_mlp\n",
    "from utils import printFrame,makePlotName,makeSigBkg,saveFig\n",
    "\n",
    "import numpy as np\n",
    "\n",
    "import os\n",
    "\n",
    "%matplotlib inline"
   ]
  },
  {
   "cell_type": "markdown",
   "metadata": {},
   "source": [
    "Some global parameters (classifier used, number of features, ...)"
   ]
  },
  {
   "cell_type": "code",
   "execution_count": 59,
   "metadata": {
    "collapsed": false
   },
   "outputs": [],
   "source": [
    "workspace_file = 'workspace_transfer.root'\n",
    "vars_g = ['x']\n",
    "dir='.'\n",
    "model_g='mlp'\n",
    "verbose_printing=False\n",
    "seed = 1234\n",
    "rng = np.random.RandomState(seed)"
   ]
  },
  {
   "cell_type": "markdown",
   "metadata": {},
   "source": [
    "Defining the distribution $f(x)$ and $g(x)$."
   ]
  },
  {
   "cell_type": "code",
   "execution_count": 60,
   "metadata": {
    "collapsed": false
   },
   "outputs": [],
   "source": [
    "# Statistical model\n",
    "w = ROOT.RooWorkspace('w')\n",
    "w.factory(\"EXPR::f0('exp(-(x-10.5)**2/1.)',x[0,15])\")\n",
    "w.factory(\"EXPR::f1('exp(-(x-3.5)**2/5.)',x)\")\n",
    "\n",
    "\n",
    "# Check Model\n",
    "w.Print()\n",
    "if verbose_printing == True:\n",
    "     printFrame(w,['x'],[w.pdf('f0'),w.pdf('f1')],'transfered',['f0','f1']\n",
    "    ,dir=dir,model_g=model_g,range=[-15,20],title='Single distributions',x_text='x0',y_text='p(x)',\n",
    "     print_pdf=True)"
   ]
  },
  {
   "cell_type": "markdown",
   "metadata": {},
   "source": [
    "Generating data from $f(x)$ and $g(x)$. Generating data from $g'(x)$ using the previously mentioned transformation."
   ]
  },
  {
   "cell_type": "code",
   "execution_count": 61,
   "metadata": {
    "collapsed": false
   },
   "outputs": [
    {
     "name": "stdout",
     "output_type": "stream",
     "text": [
      "Making Data\n"
     ]
    },
    {
     "data": {
      "text/plain": [
       "[]"
      ]
     },
     "execution_count": 61,
     "metadata": {},
     "output_type": "execute_result"
    },
    {
     "data": {
      "image/png": "[encoded data removed]",
      "text/plain": [
       "<matplotlib.figure.Figure at 0xab4d750>"
      ]
     },
     "metadata": {},
     "output_type": "display_data"
    }
   ],
   "source": [
    "# Start generating data\n",
    "num_train = 500000\n",
    "num_test = 5000\n",
    "no_train = False\n",
    "num_train_1 = num_train #f0\n",
    "num_train_2 = num_train #f1\n",
    "\n",
    "print 'Making Data'\n",
    "# Start generating data\n",
    "\n",
    "   \n",
    "# make data from root pdf\n",
    "def makeDataFi(x, pdf, num):\n",
    "    traindata = np.zeros((num,len(vars_g))) \n",
    "    data = pdf.generate(x,num)\n",
    "    traindata[:] = [[data.get(i).getRealValue(var) for var in vars_g]\n",
    "        for i in range(num)]\n",
    "    return traindata\n",
    "  \n",
    "  # features\n",
    "vars = ROOT.TList()\n",
    "for var in vars_g:\n",
    "    vars.Add(w.var(var))\n",
    "x = ROOT.RooArgSet(vars)\n",
    "\n",
    "\n",
    "train_data = np.zeros((num_train_1 + num_train_2,len(vars_g) + 1))\n",
    "test_data = np.zeros((num_test*2,len(vars_g) + 1))\n",
    "train_data_unorm = np.zeros((num_train*2,len(vars_g) + 1))\n",
    "test_data_unorm = np.zeros((num_test*2,len(vars_g) + 1))\n",
    "f0_min,f1_min = (0.,0.)\n",
    "f0_max,f1_max = (1.,1.)\n",
    "if not no_train:\n",
    "\n",
    "    data_f0 =  makeDataFi(x,w.pdf('f0'), num_train)\n",
    "    data_f1 = makeDataFi(x,w.pdf('f1'), num_train)\n",
    "    train_data_unorm[:num_train_1,:len(vars_g)] =  data_f0\n",
    "    train_data_unorm[num_train_1:,:len(vars_g)] = data_f1\n",
    "    #Normalizing\n",
    "    \n",
    "    f0_min,f0_max = (data_f0.min(),data_f0.max())\n",
    "    f1_min,f1_max = (data_f1.min(),data_f1.max())\n",
    "\n",
    "    a_norm = (f0_max - f0_min)/(f1_max - f1_min)\n",
    "    b_norm = (f1_min * f0_min - f0_max * f1_min)/(f1_max - f1_min) + f0_min\n",
    "    \n",
    "    data_f1_norm = a_norm * data_f1 + b_norm\n",
    "    # Adding an uniform\n",
    "\n",
    "    train_data[:num_train_1,:len(vars_g)] = data_f0\n",
    "    train_data[num_train_1:,:len(vars_g)] = data_f1_norm\n",
    " \n",
    "    train_data[:num_train_1,-1] = np.ones(num_train_1)\n",
    "    train_data_unorm[:num_train_1,-1] = np.ones(num_train_1)\n",
    "\n",
    "\n",
    "plt.hist(data_f0,bins=50,color='red',alpha=0.5,label='f0')\n",
    "plt.hist(data_f1_norm,bins=50,color='blue',alpha=0.5,label='f1 norm')\n",
    "plt.hist(data_f1,bins=50,color='green',alpha=0.5,label='f1')\n",
    "plt.legend()\n",
    "plt.plot()\n",
    "\n"
   ]
  },
  {
   "cell_type": "markdown",
   "metadata": {},
   "source": [
    "Train classifier to discriminate between $f(x)$ and $g'(x)$."
   ]
  },
  {
   "cell_type": "code",
   "execution_count": 62,
   "metadata": {
    "collapsed": false
   },
   "outputs": [
    {
     "name": "stdout",
     "output_type": "stream",
     "text": [
      "... building the model\n",
      "... training\n",
      "Epoch: 1, cost: 277.2518659\n",
      "Epoch: 2, cost: 278.556830651\n",
      "Epoch: 3, cost: 278.644855192\n",
      "Epoch: 4, cost: 278.731772661\n",
      "Epoch: 5, cost: 278.747604939\n",
      "Epoch: 6, cost: 278.66281369\n",
      "Epoch: 7, cost: 277.477282789\n",
      "Epoch: 8, cost: 271.729845564\n",
      "Epoch: 9, cost: 228.058540848\n",
      "Epoch: 10, cost: 219.323725701\n",
      "Epoch: 11, cost: 217.876125665\n",
      "Epoch: 12, cost: 217.321432321\n",
      "Epoch: 13, cost: 217.036709439\n",
      "Epoch: 14, cost: 215.930206168\n",
      "Epoch: 15, cost: 214.592987741\n",
      "Epoch: 16, cost: 213.988858436\n",
      "Epoch: 17, cost: 212.833381503\n",
      "Epoch: 18, cost: 212.183230207\n",
      "Epoch: 19, cost: 211.728904883\n",
      "Epoch: 20, cost: 211.315972353\n",
      "Epoch: 21, cost: 210.953201208\n",
      "Epoch: 22, cost: 210.701127786\n",
      "Epoch: 23, cost: 210.516920192\n",
      "Epoch: 24, cost: 210.375575239\n",
      "Epoch: 25, cost: 210.265066571\n",
      "Epoch: 26, cost: 210.177093066\n",
      "Epoch: 27, cost: 210.105838793\n",
      "Epoch: 28, cost: 210.0472049\n",
      "Epoch: 29, cost: 209.998257681\n",
      "Epoch: 30, cost: 209.956863904\n",
      "Epoch: 31, cost: 209.921454435\n",
      "Epoch: 32, cost: 209.890862694\n",
      "Epoch: 33, cost: 209.864208663\n",
      "Epoch: 34, cost: 209.840815369\n",
      "Epoch: 35, cost: 209.82015094\n",
      "Epoch: 36, cost: 209.801790233\n",
      "Epoch: 37, cost: 209.78538945\n",
      "Epoch: 38, cost: 209.770668281\n",
      "Epoch: 39, cost: 209.757396468\n",
      "Epoch: 40, cost: 209.745383404\n",
      "...saving model\n"
     ]
    }
   ],
   "source": [
    "\n",
    "model_file = 'train'\n",
    "n_epochs=40\n",
    "traindata = train_data[:,:-1]\n",
    "targetdata = train_data[:,-1]\n",
    "if model_g == 'mlp':\n",
    "    train_mlp((traindata, targetdata), save_file='{0}/{1}_F0_F1.pkl'.format(dir,model_file),n_epochs=n_epochs,\n",
    "             n_hidden=10)\n",
    "else:\n",
    "    indices = rng.permutation(traindata.shape[0])\n",
    "    traindata = traindata[indices]\n",
    "    targetdata = targetdata[indices]\n",
    "    scores = cross_validation.cross_val_score(clf, traindata, targetdata)\n",
    "    print \"Accuracy: {0} (+/- {1})\".format(scores.mean(), scores.std() * 2)\n",
    "    clf.fit(traindata,targetdata)\n",
    "    #clf.plot_importance_matrix(vars_names)\n",
    "    joblib.dump(clf, '{0}/{1}_F0_F1.pkl'.format(dir,model_file))\n"
   ]
  },
  {
   "cell_type": "code",
   "execution_count": 63,
   "metadata": {
    "collapsed": true
   },
   "outputs": [],
   "source": [
    "# Prediction function \n",
    "def predict(filename, traindata,model_g='mlp', sig=1):\n",
    "  sfilename,k,j = filename.split('/')[-1].split('_')\n",
    "  sfilename = '/'.join(filename.split('/')[:-1]) + '/' +  sfilename\n",
    "  j = j.split('.')[0]\n",
    "  sig = 1\n",
    "  if k <> 'F0':\n",
    "    k = int(k)\n",
    "    j = int(j)\n",
    "    sig = 1 if k < j else 0\n",
    "    filename = '{0}_{1}_{2}.pkl'.format(sfilename,min(k,j),max(k,j))\n",
    "  if model_g == 'mlp':\n",
    "    return make_predictions(dataset=traindata, model_file=filename,n_hidden=10)[:,sig]\n",
    "  else:\n",
    "    clf = joblib.load(filename)\n",
    "    if clf.__class__.__name__ == 'NuSVR':\n",
    "      output = clf.predict(traindata)\n",
    "      return np.clip(output,0.,1.)\n",
    "    else:\n",
    "      return clf.predict_proba(traindata)[:,sig]\n"
   ]
  },
  {
   "cell_type": "markdown",
   "metadata": {},
   "source": [
    "Estimate distributions $f(s(x))$ and $g'(s(x))$."
   ]
  },
  {
   "cell_type": "code",
   "execution_count": 64,
   "metadata": {
    "collapsed": false
   },
   "outputs": [
    {
     "name": "stdout",
     "output_type": "stream",
     "text": [
      "Generating Score Histograms\n",
      "F0/F1\n",
      "Estimating F0 F1\n"
     ]
    }
   ],
   "source": [
    "\n",
    "bins = 80\n",
    "low = 0.\n",
    "high = 1.  \n",
    "c1_g=''\n",
    "print 'Generating Score Histograms'\n",
    "\n",
    "w.factory('score[{0},{1}]'.format(low,high))\n",
    "s = w.var('score')\n",
    "  \n",
    "def saveHisto(w,outputs,s,bins,low,high,k='F0',j='F1'):\n",
    "    \n",
    "    print 'Estimating {0} {1}'.format(k,j)\n",
    "    for l,name in enumerate(['sig','bkg']):\n",
    "      data = ROOT.RooDataSet('{0}data_{1}_{2}'.format(name,k,j),\"data\",\n",
    "          ROOT.RooArgSet(s))\n",
    "      hist = ROOT.TH1F('{0}hist_{1}_{2}'.format(name,k,j),'hist',bins,low,high)\n",
    "      values = outputs[l]\n",
    "      #values = values[self.findOutliers(values)]\n",
    "      for val in values:\n",
    "        hist.Fill(val)\n",
    "        s.setVal(val)\n",
    "        data.add(ROOT.RooArgSet(s))\n",
    "      norm = 1./hist.Integral()\n",
    "      hist.Scale(norm) \n",
    "        \n",
    "      s.setBins(bins)\n",
    "      datahist = ROOT.RooDataHist('{0}datahist_{1}_{2}'.format(name,k,j),'hist',\n",
    "            ROOT.RooArgList(s),hist)\n",
    "      histpdf = ROOT.RooHistFunc('{0}histpdf_{1}_{2}'.format(name,k,j),'hist',\n",
    "            ROOT.RooArgSet(s), datahist, 1)\n",
    "\n",
    "      getattr(w,'import')(hist)\n",
    "      getattr(w,'import')(data)\n",
    "      getattr(w,'import')(datahist) # work around for morph = w.import(morph)\n",
    "      getattr(w,'import')(histpdf) # work around for morph = w.import(morph)\n",
    "      score_str = 'score'\n",
    "      # Calculate the density of the classifier output using kernel density \n",
    "      #w.factory('KeysPdf::{0}dist_{1}_{2}({3},{0}data_{1}_{2},RooKeysPdf::NoMirror,2)'.format(name,k,j,score_str))\n",
    "\n",
    "\n",
    "\n",
    "print 'F0/F1'\n",
    "outputs = [predict('/afs/cern.ch/work/j/jpavezse/private/transfer_learning/{0}_F0_F1.pkl'.format(model_file),\n",
    "                   traindata[targetdata==1],model_g=model_g),\n",
    "            predict('/afs/cern.ch/work/j/jpavezse/private/transfer_learning/{0}_F0_F1.pkl'.format(model_file),\n",
    "                    traindata[targetdata==0],model_g=model_g)]\n",
    "\n",
    "saveHisto(w,outputs,s, bins, low, high)\n",
    "\n",
    "\n",
    "if verbose_printing == True:\n",
    "    can = printFrame(w,['score'],[w.function('sighistpdf_F0_F1'),w.function('bkghistpdf_F0_F1')], makePlotName('full',\n",
    "    'all',type='hist',dir=dir,c1_g=c1_g,model_g=model_g),['signal','bkg'],\n",
    "  dir=dir,model_g=model_g,y_text='score(x)',print_pdf=True,title='Pairwise score distributions',use_rootnotes=False)\n"
   ]
  },
  {
   "cell_type": "code",
   "execution_count": 65,
   "metadata": {
    "collapsed": true
   },
   "outputs": [],
   "source": [
    "def findOutliers(x):\n",
    "  q5, q95 = np.percentile(x, [5,95])  \n",
    "  iqr = 2.*(q95 - q5)\n",
    "  outliers = (x <= q95 + iqr) & (x >= q5 - iqr)\n",
    "  return outliers\n",
    "def singleRatio(f0,f1):\n",
    "  ratio = f1 / f0\n",
    "  ratio[np.abs(ratio) == np.inf] = 0 \n",
    "  ratio[np.isnan(ratio)] = 0\n",
    "  return ratio\n",
    "\n",
    "def evalDist(x,f0,val):\n",
    "  iter = x.createIterator()\n",
    "  v = iter.Next()\n",
    "  i = 0\n",
    "  while v:\n",
    "    v.setVal(val[i])\n",
    "    v = iter.Next()\n",
    "    i = i+1\n",
    "  return f0.getVal(x)"
   ]
  },
  {
   "cell_type": "markdown",
   "metadata": {},
   "source": [
    "Estimate $f(x)$ using the ratio $f(s(x)) / g'(s(x))$ in order to reweight data $y^g$."
   ]
  },
  {
   "cell_type": "code",
   "execution_count": 67,
   "metadata": {
    "collapsed": false
   },
   "outputs": [
    {
     "name": "stdout",
     "output_type": "stream",
     "text": [
      "Calculating ratios\n",
      "[  0.00000000e+00   0.00000000e+00   0.00000000e+00   0.00000000e+00\n",
      "   0.00000000e+00   0.00000000e+00   0.00000000e+00   0.00000000e+00\n",
      "   0.00000000e+00   0.00000000e+00   0.00000000e+00   0.00000000e+00\n",
      "   0.00000000e+00   0.00000000e+00   0.00000000e+00   0.00000000e+00\n",
      "   0.00000000e+00   0.00000000e+00   0.00000000e+00   0.00000000e+00\n",
      "   0.00000000e+00   0.00000000e+00   0.00000000e+00   0.00000000e+00\n",
      "   0.00000000e+00   0.00000000e+00   0.00000000e+00   0.00000000e+00\n",
      "   0.00000000e+00   0.00000000e+00   0.00000000e+00   0.00000000e+00\n",
      "   0.00000000e+00   0.00000000e+00   0.00000000e+00   0.00000000e+00\n",
      "   0.00000000e+00   0.00000000e+00   0.00000000e+00   0.00000000e+00\n",
      "   0.00000000e+00   0.00000000e+00   0.00000000e+00   0.00000000e+00\n",
      "   0.00000000e+00   0.00000000e+00   0.00000000e+00   5.99447188e+00\n",
      "   1.67636103e+01   2.28925097e+01   3.02561509e+01   3.90536856e+01\n",
      "   5.09893242e+01   7.12115391e+01   1.21055980e+02   2.91113380e+02\n",
      "   6.47780231e+02   1.27083350e+03   2.10408366e+03   3.52052101e+03\n",
      "   5.64832881e+03   8.52268338e+03   1.19203985e+04   1.63461247e+04\n",
      "   2.15374396e+04   2.67683535e+04   3.19185520e+04   3.66193039e+04\n",
      "   4.02605019e+04   4.19044363e+04   4.25297638e+04   4.31310473e+04\n",
      "   3.88142804e+04   3.21062539e+04   2.59148905e+04   2.00463617e+04\n",
      "   1.44513093e+04   1.07805222e+04   8.16073939e+03   5.64528421e+03\n",
      "   3.79057071e+03   2.68547058e+03   1.57650647e+03   1.21715573e+03\n",
      "   7.61205331e+02   4.71406347e+02   2.66615065e+02   1.54559458e+02\n",
      "   9.27356749e+01   5.40958103e+01   2.70479052e+01   1.54559458e+01\n",
      "   7.72797290e+00   0.00000000e+00   7.72797290e+00   3.86398645e+00\n",
      "   0.00000000e+00   0.00000000e+00   0.00000000e+00   0.00000000e+00]\n"
     ]
    },
    {
     "data": {
      "text/plain": [
       "[]"
      ]
     },
     "execution_count": 67,
     "metadata": {},
     "output_type": "execute_result"
    },
    {
     "data": {
      "image/png": "[encoded data removed]",
      "text/plain": [
       "<matplotlib.figure.Figure at 0xab46410>"
      ]
     },
     "metadata": {},
     "output_type": "display_data"
    }
   ],
   "source": [
    "\n",
    "print 'Calculating ratios'\n",
    "true_dist = True\n",
    "npoints = 50\n",
    "\n",
    "score = ROOT.RooArgSet(w.var('score'))\n",
    "getRatio = singleRatio\n",
    "\n",
    "# NN trained on complete model\n",
    "F0pdf = w.function('bkghistpdf_F0_F1')\n",
    "F1pdf = w.function('sighistpdf_F0_F1')\n",
    "\n",
    "\n",
    "if true_dist == True and len(vars_g) == 1:\n",
    "    xarray = np.linspace(1.,15.,npoints)\n",
    "    # TODO: Harcoded dist names\n",
    "    #F1dist = np.array([evalDist(x,w.pdf('f1'),[xs]) for xs in xarray])\n",
    "    #F0dist = np.array([evalDist(x,w.pdf('f0'),[xs]) for xs in xarray])\n",
    "    #trueRatio = getRatio(F1dist, F0dist)\n",
    "\n",
    "    outputs = predict('{0}/{1}_F0_F1.pkl'.format(dir,model_file),xarray,model_g=model_g)\n",
    "    F1fulldist = np.array([evalDist(score,F1pdf,[xs]) for xs in outputs])\n",
    "    F0fulldist = np.array([evalDist(score,F0pdf,[xs]) for xs in outputs])\n",
    "\n",
    "    completeRatio = getRatio(F0fulldist,F1fulldist)\n",
    "    \n",
    "    #plt.plot(xarray, completeRatio)\n",
    "    #plt.plot(xarray, trueRatio)\n",
    "    #saveFig(xarray, [completeRatio, trueRatio], makePlotName('all',\n",
    "    #'train',type='ratio'),title='Density Ratios',labels=['Trained', 'Truth'], print_pdf=True,dir=dir)\n",
    "  \n",
    "\n",
    "# Make transfer learning\n",
    "\n",
    "# Transforming f1 into f0\n",
    "data_f1 = train_data[train_data[:,-1] == 0.]\n",
    "data_f0 = train_data[train_data[:,-1] == 1.]\n",
    "data_f1_unorm = train_data_unorm[train_data_unorm[:,-1] == 0.]\n",
    "\n",
    "xarray = data_f1[:,:-1]\n",
    "\n",
    "outputs = predict('{0}/{1}_F0_F1.pkl'.format(dir,model_file),xarray,model_g=model_g)\n",
    "\n",
    "F1fulldist = np.array([evalDist(score,F1pdf,[xs]) for xs in outputs])\n",
    "F0fulldist = np.array([evalDist(score,F0pdf,[xs]) for xs in outputs])\n",
    "\n",
    "completeRatio = getRatio(F0fulldist,F1fulldist)\n",
    "\n",
    "if len(vars_g) == 1:\n",
    "    F1dist = np.array([evalDist(x,w.pdf('f1'),[xs]) for xs in xarray])\n",
    "    F0dist = np.array([evalDist(x,w.pdf('f0'),[xs]) for xs in xarray])\n",
    "else:\n",
    "    F1dist = np.array([evalDist(x,w.pdf('f1'),xs) for xs in xarray])\n",
    "    F0dist = np.array([evalDist(x,w.pdf('f0'),xs) for xs in xarray])\n",
    "\n",
    "trueRatio = getRatio(F1dist, F0dist)\n",
    "\n",
    "\n",
    "bins = 100\n",
    "feature = 0\n",
    "x_range = (0.,15.)\n",
    "# Transfering distributions\n",
    "# Doing histogram manipulation\n",
    "fig,ax = plt.subplots()\n",
    "colors = ['b-','r-','k-']\n",
    "colors_rgb = ['blue','red','black']\n",
    "alpha = 0.5\n",
    "beta = 0.5\n",
    "\n",
    "#data_f1_red = ((data_f1 - f0_min)*(f1_max-f1_min))/(f0_max-f0_min) + f1_min\n",
    "#data_f1_red = (data_f1 - a_norm) / b_norm\n",
    "\n",
    "hist,bins = np.histogram(data_f1[:,feature],bins=bins, range=x_range)\n",
    "hist_transfered,bins_1 = np.histogram(data_f1[:,feature],weights=trueRatio,bins=bins, range=x_range)\n",
    "\n",
    "hist_transfered_clf,bins_2 = np.histogram(data_f1[:,feature],bins=bins,\n",
    "                                          weights=completeRatio, range=x_range)\n",
    "\n",
    "hist0,bins0 = np.histogram(data_f0[:,feature], bins=bins, range=x_range)\n",
    "hist1_unorm,bins_norm = np.histogram(data_f1_unorm[:,feature],bins=bins, range=x_range)\n",
    "\n",
    "print hist_transfered_clf\n",
    "\n",
    "widths = np.diff(bins)\n",
    "\n",
    "\n",
    "ax.bar(bins[:-1], hist0,widths,label='f0',alpha=0.5,color='red')\n",
    "ax.bar(bins[:-1], hist1_unorm,widths,label='f1 unorm',alpha=0.5,color='yellow')\n",
    "#ax.bar(bins[:-1], hist,widths,label='f1',alpha=0.5,color='blue')\n",
    "#ax.bar(bins[:-1], hist_transfered,widths,label='f1 weighted (true)',\n",
    "#    alpha=0.5,color='green')\n",
    "ax.bar(bins[:-1], hist_transfered_clf,widths,label='f1 weighted ',\n",
    "        alpha=0.5,color='green')\n",
    "\n",
    "ax.legend(frameon=False,fontsize=11)\n",
    "ax.set_xlabel('x') \n",
    "ax.set_ylabel('p(x)') \n",
    "if len(vars_g) > 1:\n",
    "    ax.set_title('Transfered distributions feature {0}'.format(feature))\n",
    "else:\n",
    "    ax.set_title('Transfered distributions')\n",
    "file_plot =  makePlotName('all','transf',type='hist_v{0}'.format(feature),model_g=model_g) \n",
    "fig.savefig('{0}/plots/{1}/{2}.png'.format(dir,model_g,file_plot))\n",
    "\n",
    "#saveFig(xarray, [true_transfer, data_f0[:,0]], makePlotName('all','transf',type='hist'),title='Transfered distribution',labels=['Transfer True', 'Truth'],hist=True, print_pdf=True,dir=dir)\n",
    "plt.plot()"
   ]
  },
  {
   "cell_type": "code",
   "execution_count": null,
   "metadata": {
    "collapsed": false
   },
   "outputs": [],
   "source": []
  }
 ],
 "metadata": {
  "kernelspec": {
   "display_name": "Python 2",
   "language": "python",
   "name": "python2"
  },
  "language_info": {
   "codemirror_mode": {
    "name": "ipython",
    "version": 2
   },
   "file_extension": ".py",
   "mimetype": "text/x-python",
   "name": "python",
   "nbconvert_exporter": "python",
   "pygments_lexer": "ipython2",
   "version": "2.7.5"
  }
 },
 "nbformat": 4,
 "nbformat_minor": 0
}
